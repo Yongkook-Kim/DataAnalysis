{
  "nbformat": 4,
  "nbformat_minor": 0,
  "metadata": {
    "colab": {
      "name": "02_정규표현식.ipynb",
      "provenance": [],
      "collapsed_sections": []
    },
    "kernelspec": {
      "name": "python3",
      "display_name": "Python 3"
    },
    "language_info": {
      "name": "python"
    }
  },
  "cells": [
    {
      "cell_type": "markdown",
      "metadata": {
        "id": "y5a46vJjcRkf"
      },
      "source": [
        "# 정규 표현식(Regular Expression)"
      ]
    },
    {
      "cell_type": "code",
      "metadata": {
        "id": "oTb6A__yZ44B"
      },
      "source": [
        "# # 아래처럼 하면 텍스트에서 정규표현식에 해당되는 부분을 바꿀문자로 바꿈\n",
        "# re.sub('정규표현식', '바꿀문자', text)\n",
        "\n",
        "# # 동일한 정규표현식을 자주 반복해서 사용한다면 컴파일 해두고 사용\n",
        "# re.compile('정규표현식')\n",
        "# re.sub('바꿀문자', text)"
      ],
      "execution_count": null,
      "outputs": []
    },
    {
      "cell_type": "code",
      "metadata": {
        "id": "AseXvQo5es2i"
      },
      "source": [
        "import re"
      ],
      "execution_count": 1,
      "outputs": []
    },
    {
      "cell_type": "markdown",
      "metadata": {
        "id": "3snaQR31eyJu"
      },
      "source": [
        "## 1. 정규표현식 실습"
      ]
    },
    {
      "cell_type": "markdown",
      "metadata": {
        "id": "6C8ESBeAfGEO"
      },
      "source": [
        "- . 기호 : 한 개의 임의의 문자를 나타냅니다. (줄바꿈 문자인 \\n는 제외)"
      ]
    },
    {
      "cell_type": "code",
      "metadata": {
        "id": "fBlbAfnwex3B"
      },
      "source": [
        "re.search('a.c', 'lll')         # a.c 에 매치되는 부분이 없어서 아무것도 나오지 않음"
      ],
      "execution_count": 3,
      "outputs": []
    },
    {
      "cell_type": "code",
      "metadata": {
        "colab": {
          "base_uri": "https://localhost:8080/"
        },
        "id": "A6pFcpvHe_Pg",
        "outputId": "59e99769-a08a-4cf2-87d8-e38e844c911e"
      },
      "source": [
        "re.search('a.c', 'akc')         # if 조건문에 넣으면 True로 동작, 없을땐 False"
      ],
      "execution_count": 4,
      "outputs": [
        {
          "output_type": "execute_result",
          "data": {
            "text/plain": [
              "<re.Match object; span=(0, 3), match='akc'>"
            ]
          },
          "metadata": {},
          "execution_count": 4
        }
      ]
    },
    {
      "cell_type": "markdown",
      "metadata": {
        "id": "jqqkde6yfR8s"
      },
      "source": [
        "- ? 기호 : 앞의 문자가 존재할 수도 있고, 존재하지 않을 수도 있습니다. (문자가 0개 또는 1개)"
      ]
    },
    {
      "cell_type": "code",
      "metadata": {
        "id": "offl_R1cfLIx"
      },
      "source": [
        "r = re.compile('ab?c')\n",
        "r.search('abbc')            # b가 2개가 있어서 안됨"
      ],
      "execution_count": 5,
      "outputs": []
    },
    {
      "cell_type": "code",
      "metadata": {
        "colab": {
          "base_uri": "https://localhost:8080/"
        },
        "id": "26YVbKNWfqqM",
        "outputId": "7772913a-168a-484b-e2d4-2a0d72543b96"
      },
      "source": [
        "r.search('abc')"
      ],
      "execution_count": 6,
      "outputs": [
        {
          "output_type": "execute_result",
          "data": {
            "text/plain": [
              "<re.Match object; span=(0, 3), match='abc'>"
            ]
          },
          "metadata": {},
          "execution_count": 6
        }
      ]
    },
    {
      "cell_type": "code",
      "metadata": {
        "colab": {
          "base_uri": "https://localhost:8080/"
        },
        "id": "RHwDzO6NftVG",
        "outputId": "5a468fc3-a1c7-4ebe-a23f-3260d5ee22dc"
      },
      "source": [
        "r.search('ac')"
      ],
      "execution_count": 7,
      "outputs": [
        {
          "output_type": "execute_result",
          "data": {
            "text/plain": [
              "<re.Match object; span=(0, 2), match='ac'>"
            ]
          },
          "metadata": {},
          "execution_count": 7
        }
      ]
    },
    {
      "cell_type": "markdown",
      "metadata": {
        "id": "cHYNudfbxPkH"
      },
      "source": [
        "- \\* 기호 : 앞의 문자가 무한개로 존재할 수도 있고, 존재하지 않을 수도 있습니다. (문자가 0개 이상)"
      ]
    },
    {
      "cell_type": "code",
      "metadata": {
        "colab": {
          "base_uri": "https://localhost:8080/"
        },
        "id": "R-eaz3kjfuui",
        "outputId": "057f5f26-12e7-4ad5-e1e8-423f149223ae"
      },
      "source": [
        "r = re.compile('ab*c')\n",
        "r.search('abbbbbbbbc')"
      ],
      "execution_count": 10,
      "outputs": [
        {
          "output_type": "execute_result",
          "data": {
            "text/plain": [
              "<re.Match object; span=(0, 10), match='abbbbbbbbc'>"
            ]
          },
          "metadata": {},
          "execution_count": 10
        }
      ]
    },
    {
      "cell_type": "code",
      "metadata": {
        "colab": {
          "base_uri": "https://localhost:8080/"
        },
        "id": "ER086DINyBYh",
        "outputId": "500e0bcf-bf75-4c6e-d357-44e5194806f6"
      },
      "source": [
        "r.search('ac')"
      ],
      "execution_count": 11,
      "outputs": [
        {
          "output_type": "execute_result",
          "data": {
            "text/plain": [
              "<re.Match object; span=(0, 2), match='ac'>"
            ]
          },
          "metadata": {},
          "execution_count": 11
        }
      ]
    },
    {
      "cell_type": "markdown",
      "metadata": {
        "id": "WRVvZDPIxakx"
      },
      "source": [
        "- \\+ 기호 : 앞의 문자가 최소 한 개 이상 존재합니다. (문자가 1개 이상)"
      ]
    },
    {
      "cell_type": "code",
      "metadata": {
        "id": "GdYHn58PxcAl"
      },
      "source": [
        "r = re.compile('ab+c')\n",
        "r.search('ac')"
      ],
      "execution_count": 12,
      "outputs": []
    },
    {
      "cell_type": "code",
      "metadata": {
        "colab": {
          "base_uri": "https://localhost:8080/"
        },
        "id": "TQ1UMvZCyLjn",
        "outputId": "9fdbc8d4-07d2-4a55-cd22-6bb7cc7a91a4"
      },
      "source": [
        "r.search('abbbbbbbc')"
      ],
      "execution_count": 13,
      "outputs": [
        {
          "output_type": "execute_result",
          "data": {
            "text/plain": [
              "<re.Match object; span=(0, 9), match='abbbbbbbc'>"
            ]
          },
          "metadata": {},
          "execution_count": 13
        }
      ]
    },
    {
      "cell_type": "markdown",
      "metadata": {
        "id": "G8B4WbOOxe5f"
      },
      "source": [
        "- ^ : 뒤의 문자로 문자열이 시작됩니다."
      ]
    },
    {
      "cell_type": "code",
      "metadata": {
        "id": "O86T88eMxf-c"
      },
      "source": [
        "re.search('^a', 'bbc')"
      ],
      "execution_count": 14,
      "outputs": []
    },
    {
      "cell_type": "code",
      "metadata": {
        "colab": {
          "base_uri": "https://localhost:8080/"
        },
        "id": "8qzmZhYhyTOf",
        "outputId": "958f1628-cfd2-4aed-8c6c-69a3e8198112"
      },
      "source": [
        "re.search('^a', 'abbc')"
      ],
      "execution_count": 15,
      "outputs": [
        {
          "output_type": "execute_result",
          "data": {
            "text/plain": [
              "<re.Match object; span=(0, 1), match='a'>"
            ]
          },
          "metadata": {},
          "execution_count": 15
        }
      ]
    },
    {
      "cell_type": "markdown",
      "metadata": {
        "id": "NZoriia4xh8b"
      },
      "source": [
        "- $ 기호 : 앞의 문자로 문자열이 끝납니다."
      ]
    },
    {
      "cell_type": "code",
      "metadata": {
        "colab": {
          "base_uri": "https://localhost:8080/"
        },
        "id": "dtNRBxylxkrn",
        "outputId": "40b7bcdb-ecdf-4291-9e39-d3bec286879b"
      },
      "source": [
        "re.search('c$', 'bbc')"
      ],
      "execution_count": 16,
      "outputs": [
        {
          "output_type": "execute_result",
          "data": {
            "text/plain": [
              "<re.Match object; span=(2, 3), match='c'>"
            ]
          },
          "metadata": {},
          "execution_count": 16
        }
      ]
    },
    {
      "cell_type": "markdown",
      "metadata": {
        "id": "Egc6tJ_mycXi"
      },
      "source": [
        "- {숫자} 기호 : 숫자만큼 반복합니다."
      ]
    },
    {
      "cell_type": "code",
      "metadata": {
        "colab": {
          "base_uri": "https://localhost:8080/"
        },
        "id": "7t3J7MlvyYf0",
        "outputId": "151dbac0-c5d3-4820-f448-b9bc8c00ad09"
      },
      "source": [
        "r = re.compile('ab{2}c')\n",
        "r.search('ac'), r.search('abc')"
      ],
      "execution_count": 17,
      "outputs": [
        {
          "output_type": "execute_result",
          "data": {
            "text/plain": [
              "(None, None)"
            ]
          },
          "metadata": {},
          "execution_count": 17
        }
      ]
    },
    {
      "cell_type": "code",
      "metadata": {
        "colab": {
          "base_uri": "https://localhost:8080/"
        },
        "id": "sm4kBX9Gyorm",
        "outputId": "8958a424-313a-4a5e-fcdd-d48442ac8914"
      },
      "source": [
        "r.search('abbc')"
      ],
      "execution_count": 18,
      "outputs": [
        {
          "output_type": "execute_result",
          "data": {
            "text/plain": [
              "<re.Match object; span=(0, 4), match='abbc'>"
            ]
          },
          "metadata": {},
          "execution_count": 18
        }
      ]
    },
    {
      "cell_type": "markdown",
      "metadata": {
        "id": "hRucgtKXyuFh"
      },
      "source": [
        "- {숫자1, 숫자2} 기호 : 숫자1 이상 숫자2 이하만큼 반복합니다. ?, *, +를 이것으로 대체할 수 있습니다."
      ]
    },
    {
      "cell_type": "code",
      "metadata": {
        "id": "pHn4Z0aJzZF-"
      },
      "source": [
        "re.search('ab{1,3}c', 'ac')"
      ],
      "execution_count": 22,
      "outputs": []
    },
    {
      "cell_type": "code",
      "metadata": {
        "colab": {
          "base_uri": "https://localhost:8080/"
        },
        "id": "ALIkFupNyrEq",
        "outputId": "8cdc5b94-784f-4a26-c999-10d9975da85e"
      },
      "source": [
        "re.search('ab{1,3}c', 'abbc')"
      ],
      "execution_count": 21,
      "outputs": [
        {
          "output_type": "execute_result",
          "data": {
            "text/plain": [
              "<re.Match object; span=(0, 4), match='abbc'>"
            ]
          },
          "metadata": {},
          "execution_count": 21
        }
      ]
    },
    {
      "cell_type": "markdown",
      "metadata": {
        "id": "LTyg3QTKy0H0"
      },
      "source": [
        "- {숫자,} 기호 : 숫자 이상만큼 반복합니다."
      ]
    },
    {
      "cell_type": "code",
      "metadata": {
        "id": "RNnZsB3Jy2sT"
      },
      "source": [
        "re.search('ab{3,}c', 'abbc')"
      ],
      "execution_count": 23,
      "outputs": []
    },
    {
      "cell_type": "markdown",
      "metadata": {
        "id": "HHWfzq1Wy4pn"
      },
      "source": [
        "- [] 기호 : \t대괄호 안의 문자들 중 한 개의 문자와 매치합니다. [amk]라고 한다면 a 또는 m 또는 k 중 하나라도 존재하면 매치를 의미합니다. [a-z]와 같이 범위를 지정할 수도 있습니다. [a-zA-Z]는 알파벳 전체를 의미하는 범위이며, 문자열에 알파벳이 존재하면 매치를 의미합니다."
      ]
    },
    {
      "cell_type": "code",
      "metadata": {
        "id": "ye-NtB6_y6K0"
      },
      "source": [
        "r = re.compile('[abc]')         # [abc]는 [a-c]와 같다.\n",
        "r.search('zzz')"
      ],
      "execution_count": 24,
      "outputs": []
    },
    {
      "cell_type": "code",
      "metadata": {
        "colab": {
          "base_uri": "https://localhost:8080/"
        },
        "id": "RpvXDgKxzoMJ",
        "outputId": "49787e6c-3764-4767-c75c-c25936397112"
      },
      "source": [
        "r.search('zzza')        # 하나라도 있으면 OK"
      ],
      "execution_count": 25,
      "outputs": [
        {
          "output_type": "execute_result",
          "data": {
            "text/plain": [
              "<re.Match object; span=(3, 4), match='a'>"
            ]
          },
          "metadata": {},
          "execution_count": 25
        }
      ]
    },
    {
      "cell_type": "code",
      "metadata": {
        "id": "XlwdOxSkzuKF"
      },
      "source": [
        "# 소문자\n",
        "re.search('[a-z]', 'ABC')"
      ],
      "execution_count": 26,
      "outputs": []
    },
    {
      "cell_type": "code",
      "metadata": {
        "colab": {
          "base_uri": "https://localhost:8080/"
        },
        "id": "lS2_T1rEzzwO",
        "outputId": "2b127f85-8291-43f2-dad0-a1c828e1235f"
      },
      "source": [
        "re.search('[a-z]', 'AbC')"
      ],
      "execution_count": 27,
      "outputs": [
        {
          "output_type": "execute_result",
          "data": {
            "text/plain": [
              "<re.Match object; span=(1, 2), match='b'>"
            ]
          },
          "metadata": {},
          "execution_count": 27
        }
      ]
    },
    {
      "cell_type": "code",
      "metadata": {
        "colab": {
          "base_uri": "https://localhost:8080/"
        },
        "id": "SYY-5vz00Zyi",
        "outputId": "94f7cfc3-9929-44b0-c307-0ea150067428"
      },
      "source": [
        "# 문자 또는 숫자\n",
        "re.search('[0-9A-Za-z]', '가나다') , re.search('[0-9A-Za-z]', '가나다a')"
      ],
      "execution_count": 30,
      "outputs": [
        {
          "output_type": "execute_result",
          "data": {
            "text/plain": [
              "(None, <re.Match object; span=(3, 4), match='a'>)"
            ]
          },
          "metadata": {},
          "execution_count": 30
        }
      ]
    },
    {
      "cell_type": "code",
      "metadata": {
        "colab": {
          "base_uri": "https://localhost:8080/"
        },
        "id": "1TOK_9-P0rkQ",
        "outputId": "ee30e321-b2ab-4f78-fcc5-e9b906e9d70e"
      },
      "source": [
        "re.search('\\w', '*&%$*&') , re.search('\\w', '가나다a')      # \\w 는 문자 또는 숫자를 의미"
      ],
      "execution_count": 32,
      "outputs": [
        {
          "output_type": "execute_result",
          "data": {
            "text/plain": [
              "(None, <re.Match object; span=(0, 1), match='가'>)"
            ]
          },
          "metadata": {},
          "execution_count": 32
        }
      ]
    },
    {
      "cell_type": "markdown",
      "metadata": {
        "id": "01hyuu2fy8pH"
      },
      "source": [
        "- [^문자] 기호 : 해당 문자를 제외한 문자를 매치합니다."
      ]
    },
    {
      "cell_type": "code",
      "metadata": {
        "colab": {
          "base_uri": "https://localhost:8080/"
        },
        "id": "mVKVd2iwzA3s",
        "outputId": "c6cce0d1-377a-49ab-d930-fce8088f34ba"
      },
      "source": [
        "r = re.compile('[^abc]')\n",
        "r.search('ab'), r.search('abef')"
      ],
      "execution_count": 29,
      "outputs": [
        {
          "output_type": "execute_result",
          "data": {
            "text/plain": [
              "(None, <re.Match object; span=(2, 3), match='e'>)"
            ]
          },
          "metadata": {},
          "execution_count": 29
        }
      ]
    },
    {
      "cell_type": "code",
      "metadata": {
        "colab": {
          "base_uri": "https://localhost:8080/",
          "height": 34
        },
        "id": "khHJ6JCs09-q",
        "outputId": "184cfa0a-db42-43b5-9b10-36ac68b45486"
      },
      "source": [
        "# 한글과 공백을 제외한 모든 문자를 제거\n",
        "re.sub('[^ㄱ-ㅎㅏ-ㅣ가-힣 ]', '', '^기호 뒤에 붙은 문자.')"
      ],
      "execution_count": 33,
      "outputs": [
        {
          "output_type": "execute_result",
          "data": {
            "application/vnd.google.colaboratory.intrinsic+json": {
              "type": "string"
            },
            "text/plain": [
              "'기호 뒤에 붙은 문자'"
            ]
          },
          "metadata": {},
          "execution_count": 33
        }
      ]
    },
    {
      "cell_type": "markdown",
      "metadata": {
        "id": "PCMc7fa3zCuE"
      },
      "source": [
        "- | 기호 : AlB와 같이 쓰이며 A 또는 B의 의미를 가집니다."
      ]
    },
    {
      "cell_type": "markdown",
      "metadata": {
        "id": "CQeuHTjH1uX5"
      },
      "source": [
        "## 2. re모듈 함수"
      ]
    },
    {
      "cell_type": "markdown",
      "metadata": {
        "id": "XCRMfSGY2K_4"
      },
      "source": [
        "- re.match() 와 re.search()의 차이"
      ]
    },
    {
      "cell_type": "code",
      "metadata": {
        "colab": {
          "base_uri": "https://localhost:8080/"
        },
        "id": "lzDMi7WXzEPR",
        "outputId": "14e12765-782a-4362-ef0a-6d97dcfa2b24"
      },
      "source": [
        "re.match('ab.', 'kkkabc'), re.search('ab.', 'kkkabc')"
      ],
      "execution_count": 34,
      "outputs": [
        {
          "output_type": "execute_result",
          "data": {
            "text/plain": [
              "(None, <re.Match object; span=(3, 6), match='abc'>)"
            ]
          },
          "metadata": {},
          "execution_count": 34
        }
      ]
    },
    {
      "cell_type": "markdown",
      "metadata": {
        "id": "AYc8t75T2MA7"
      },
      "source": [
        "- re.split()"
      ]
    },
    {
      "cell_type": "code",
      "metadata": {
        "colab": {
          "base_uri": "https://localhost:8080/"
        },
        "id": "3NpySSnk2H7x",
        "outputId": "44edc86b-9681-4cb3-8d35-8466b64911a0"
      },
      "source": [
        "text=\"사과 딸기 수박 메론 바나나\"\n",
        "re.split(\" \",text)"
      ],
      "execution_count": 35,
      "outputs": [
        {
          "output_type": "execute_result",
          "data": {
            "text/plain": [
              "['사과', '딸기', '수박', '메론', '바나나']"
            ]
          },
          "metadata": {},
          "execution_count": 35
        }
      ]
    },
    {
      "cell_type": "code",
      "metadata": {
        "colab": {
          "base_uri": "https://localhost:8080/"
        },
        "id": "4ubYNwHF2Rwf",
        "outputId": "54e07eb5-4a39-4c89-f225-44298e2f19de"
      },
      "source": [
        "text.split()"
      ],
      "execution_count": 36,
      "outputs": [
        {
          "output_type": "execute_result",
          "data": {
            "text/plain": [
              "['사과', '딸기', '수박', '메론', '바나나']"
            ]
          },
          "metadata": {},
          "execution_count": 36
        }
      ]
    },
    {
      "cell_type": "code",
      "metadata": {
        "colab": {
          "base_uri": "https://localhost:8080/"
        },
        "id": "zt14YrLH2UTr",
        "outputId": "50943944-9af1-4cc9-8433-d1a357274d2c"
      },
      "source": [
        "text = '''사과        딸기\n",
        "    수박\n",
        "    \n",
        "    메론    바나나'''\n",
        "text.split()"
      ],
      "execution_count": 37,
      "outputs": [
        {
          "output_type": "execute_result",
          "data": {
            "text/plain": [
              "['사과', '딸기', '수박', '메론', '바나나']"
            ]
          },
          "metadata": {},
          "execution_count": 37
        }
      ]
    },
    {
      "cell_type": "code",
      "metadata": {
        "colab": {
          "base_uri": "https://localhost:8080/"
        },
        "id": "_8G-z9bW2eK_",
        "outputId": "31d7018f-008a-4893-ab5b-40ca6f5479b7"
      },
      "source": [
        "re.split('\\s+', text)"
      ],
      "execution_count": 39,
      "outputs": [
        {
          "output_type": "execute_result",
          "data": {
            "text/plain": [
              "['사과', '딸기', '수박', '메론', '바나나']"
            ]
          },
          "metadata": {},
          "execution_count": 39
        }
      ]
    },
    {
      "cell_type": "markdown",
      "metadata": {
        "id": "nYBV1gSe3LrI"
      },
      "source": [
        "- re.findall()"
      ]
    },
    {
      "cell_type": "code",
      "metadata": {
        "colab": {
          "base_uri": "https://localhost:8080/"
        },
        "id": "_sI9BRMQ2mzK",
        "outputId": "45c0dcda-5b17-4c43-f359-327b40d42b23"
      },
      "source": [
        "text=\"\"\"이름 : 김철수\n",
        "전화번호 : 010 - 1234 - 1234\n",
        "나이 : 30\n",
        "성별 : 남\"\"\"  \n",
        "re.findall(\"\\d+\",text)"
      ],
      "execution_count": 40,
      "outputs": [
        {
          "output_type": "execute_result",
          "data": {
            "text/plain": [
              "['010', '1234', '1234', '30']"
            ]
          },
          "metadata": {},
          "execution_count": 40
        }
      ]
    },
    {
      "cell_type": "code",
      "metadata": {
        "colab": {
          "base_uri": "https://localhost:8080/"
        },
        "id": "vsG-1JUp3PET",
        "outputId": "fd1a57a7-7483-4519-99bf-5554b614ccaa"
      },
      "source": [
        "re.findall(\"\\d+\", '김철수')"
      ],
      "execution_count": 41,
      "outputs": [
        {
          "output_type": "execute_result",
          "data": {
            "text/plain": [
              "[]"
            ]
          },
          "metadata": {},
          "execution_count": 41
        }
      ]
    },
    {
      "cell_type": "markdown",
      "metadata": {
        "id": "lfSm3HjT3ivj"
      },
      "source": [
        "- re.sub()"
      ]
    },
    {
      "cell_type": "code",
      "metadata": {
        "colab": {
          "base_uri": "https://localhost:8080/",
          "height": 52
        },
        "id": "PX2D98of3VGH",
        "outputId": "b3e6e735-1a73-41d2-c249-1507536437b7"
      },
      "source": [
        "text=\"\"\"Regular expression : A regular expression, regex or regexp[1] (sometimes called a rational expression)[2][3] is,\n",
        " in theoretical computer science and formal language theory, a sequence of characters that define a search pattern.\"\"\"\n",
        "re.sub('[^a-zA-Z]',' ',text)"
      ],
      "execution_count": 42,
      "outputs": [
        {
          "output_type": "execute_result",
          "data": {
            "application/vnd.google.colaboratory.intrinsic+json": {
              "type": "string"
            },
            "text/plain": [
              "'Regular expression   A regular expression  regex or regexp     sometimes called a rational expression        is   in theoretical computer science and formal language theory  a sequence of characters that define a search pattern '"
            ]
          },
          "metadata": {},
          "execution_count": 42
        }
      ]
    },
    {
      "cell_type": "markdown",
      "metadata": {
        "id": "Wtc-r_t138Sy"
      },
      "source": [
        "## 3. 정규표현식 텍스트 전처리 예제"
      ]
    },
    {
      "cell_type": "code",
      "metadata": {
        "colab": {
          "base_uri": "https://localhost:8080/"
        },
        "id": "qhcVXGIH3zoo",
        "outputId": "fe089a5b-0a8a-43a3-f703-cc876ea638f9"
      },
      "source": [
        "text = \"\"\"100 John    PROF\n",
        "101 James   STUD\n",
        "102 Mac   STUD\"\"\"  \n",
        "\n",
        "re.split('\\s+', text)  "
      ],
      "execution_count": 57,
      "outputs": [
        {
          "output_type": "execute_result",
          "data": {
            "text/plain": [
              "['100', 'John', 'PROF', '101', 'James', 'STUD', '102', 'Mac', 'STUD']"
            ]
          },
          "metadata": {},
          "execution_count": 57
        }
      ]
    },
    {
      "cell_type": "code",
      "metadata": {
        "colab": {
          "base_uri": "https://localhost:8080/"
        },
        "id": "iYOPClqr4Iw3",
        "outputId": "093fc5ab-b9d4-4d71-8cc1-e51f76b08dd8"
      },
      "source": [
        "re.findall('\\d+', text)"
      ],
      "execution_count": 44,
      "outputs": [
        {
          "output_type": "execute_result",
          "data": {
            "text/plain": [
              "['100', '101', '102']"
            ]
          },
          "metadata": {},
          "execution_count": 44
        }
      ]
    },
    {
      "cell_type": "code",
      "metadata": {
        "colab": {
          "base_uri": "https://localhost:8080/"
        },
        "id": "FS-TaQav4U3a",
        "outputId": "64bff736-e0ab-4e29-d399-1e76f4f140d6"
      },
      "source": [
        "re.findall('[A-Z]',text)"
      ],
      "execution_count": 45,
      "outputs": [
        {
          "output_type": "execute_result",
          "data": {
            "text/plain": [
              "['J', 'P', 'R', 'O', 'F', 'J', 'S', 'T', 'U', 'D', 'M', 'S', 'T', 'U', 'D']"
            ]
          },
          "metadata": {},
          "execution_count": 45
        }
      ]
    },
    {
      "cell_type": "code",
      "metadata": {
        "colab": {
          "base_uri": "https://localhost:8080/"
        },
        "id": "sxKRbGOf4arW",
        "outputId": "bedc5bb4-2cf5-424f-bd06-f9454b04adba"
      },
      "source": [
        "re.findall('[A-Z]{4}',text)  "
      ],
      "execution_count": 46,
      "outputs": [
        {
          "output_type": "execute_result",
          "data": {
            "text/plain": [
              "['PROF', 'STUD', 'STUD']"
            ]
          },
          "metadata": {},
          "execution_count": 46
        }
      ]
    },
    {
      "cell_type": "code",
      "metadata": {
        "colab": {
          "base_uri": "https://localhost:8080/"
        },
        "id": "86Gsovbg4eA1",
        "outputId": "8032c12e-6b62-4a92-e899-0379a81d6052"
      },
      "source": [
        "re.findall('[A-Z][a-z]+',text)"
      ],
      "execution_count": 47,
      "outputs": [
        {
          "output_type": "execute_result",
          "data": {
            "text/plain": [
              "['John', 'James', 'Mac']"
            ]
          },
          "metadata": {},
          "execution_count": 47
        }
      ]
    }
  ]
}