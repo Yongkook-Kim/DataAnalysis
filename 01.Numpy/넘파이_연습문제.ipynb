{
  "nbformat": 4,
  "nbformat_minor": 0,
  "metadata": {
    "colab": {
      "name": "넘파이_연습문제.ipynb",
      "provenance": [],
      "collapsed_sections": []
    },
    "kernelspec": {
      "name": "python3",
      "display_name": "Python 3"
    },
    "language_info": {
      "name": "python"
    }
  },
  "cells": [
    {
      "cell_type": "markdown",
      "metadata": {
        "id": "zvWx0yfbJ9IL"
      },
      "source": [
        "# 넘파이 연습문제"
      ]
    },
    {
      "cell_type": "code",
      "metadata": {
        "id": "fadqI7upKKsP"
      },
      "source": [
        "import numpy as np"
      ],
      "execution_count": 75,
      "outputs": []
    },
    {
      "cell_type": "markdown",
      "metadata": {
        "id": "Wo_sEZ5bk-mK"
      },
      "source": [
        "### 1. 행렬 만들기"
      ]
    },
    {
      "cell_type": "code",
      "metadata": {
        "colab": {
          "base_uri": "https://localhost:8080/"
        },
        "id": "_c42WWOWJ65l",
        "outputId": "18da5102-22ac-4e12-f16d-2e87a44cedbd"
      },
      "source": [
        "# 1번\n",
        "a = np.arange(10,81,10).reshape(2,4)\n",
        "a"
      ],
      "execution_count": 3,
      "outputs": [
        {
          "output_type": "execute_result",
          "data": {
            "text/plain": [
              "array([[10, 20, 30, 40],\n",
              "       [50, 60, 70, 80]])"
            ]
          },
          "metadata": {
            "tags": []
          },
          "execution_count": 3
        }
      ]
    },
    {
      "cell_type": "markdown",
      "metadata": {
        "id": "TGYtw6rGlOqE"
      },
      "source": [
        "### 2. 인덱싱, 슬라이싱"
      ]
    },
    {
      "cell_type": "code",
      "metadata": {
        "colab": {
          "base_uri": "https://localhost:8080/"
        },
        "id": "jZpIDFMeKHmW",
        "outputId": "af25aa0f-b4c7-41f0-da6b-7279f83cb00a"
      },
      "source": [
        "# 2번\n",
        "m = np.arange(15).reshape(3,5)\n",
        "m"
      ],
      "execution_count": 76,
      "outputs": [
        {
          "output_type": "execute_result",
          "data": {
            "text/plain": [
              "array([[ 0,  1,  2,  3,  4],\n",
              "       [ 5,  6,  7,  8,  9],\n",
              "       [10, 11, 12, 13, 14]])"
            ]
          },
          "metadata": {
            "tags": []
          },
          "execution_count": 76
        }
      ]
    },
    {
      "cell_type": "code",
      "metadata": {
        "colab": {
          "base_uri": "https://localhost:8080/"
        },
        "id": "fPtMk7E2RS7R",
        "outputId": "eb570d84-dd43-4a4c-ce05-dad6144f1b3e"
      },
      "source": [
        "# 2-1 이 행렬에서 값 7을 인덱싱한다.\n",
        "print(m[1,2])"
      ],
      "execution_count": 43,
      "outputs": [
        {
          "output_type": "stream",
          "text": [
            "7\n"
          ],
          "name": "stdout"
        }
      ]
    },
    {
      "cell_type": "code",
      "metadata": {
        "colab": {
          "base_uri": "https://localhost:8080/"
        },
        "id": "p5hP3giNRYcz",
        "outputId": "6af9db9d-0c5f-40a7-e06d-1c5bb7e8be03"
      },
      "source": [
        "# 2-2 이 행렬에서 값 14를 인덱싱한다.\n",
        "print(m[2,4])"
      ],
      "execution_count": 44,
      "outputs": [
        {
          "output_type": "stream",
          "text": [
            "14\n"
          ],
          "name": "stdout"
        }
      ]
    },
    {
      "cell_type": "code",
      "metadata": {
        "colab": {
          "base_uri": "https://localhost:8080/"
        },
        "id": "3eGCGR9oRYR9",
        "outputId": "05b73124-f3e8-4f72-aad8-7cd481ad9fa5"
      },
      "source": [
        "# 2-3 이 행렬에서 배열 [6,7]을 슬라이싱 한다.\n",
        "print(m[1,1:3])"
      ],
      "execution_count": 45,
      "outputs": [
        {
          "output_type": "stream",
          "text": [
            "[6 7]\n"
          ],
          "name": "stdout"
        }
      ]
    },
    {
      "cell_type": "code",
      "metadata": {
        "colab": {
          "base_uri": "https://localhost:8080/"
        },
        "id": "Odb_niG7RYD2",
        "outputId": "9e3f6035-7c5f-473c-a06b-f67a463ead20"
      },
      "source": [
        "# 2-4 이 행렬에서 배열 [7,12]를 슬라이싱 한다.\n",
        "print(m[1:,2])"
      ],
      "execution_count": 77,
      "outputs": [
        {
          "output_type": "stream",
          "text": [
            "[ 7 12]\n"
          ],
          "name": "stdout"
        }
      ]
    },
    {
      "cell_type": "code",
      "metadata": {
        "colab": {
          "base_uri": "https://localhost:8080/"
        },
        "id": "fwpJpzQGRX6d",
        "outputId": "9ef10292-416f-4b36-f2d9-e25b746a743f"
      },
      "source": [
        "# 2-5 이 행렬에서 배열 [[3,4],[8,9]]를 슬라이싱 한다.\n",
        "print(m[:2,3:])"
      ],
      "execution_count": 78,
      "outputs": [
        {
          "output_type": "stream",
          "text": [
            "[[3 4]\n",
            " [8 9]]\n"
          ],
          "name": "stdout"
        }
      ]
    },
    {
      "cell_type": "markdown",
      "metadata": {
        "id": "meWOnUd8mHSJ"
      },
      "source": [
        "### Boolean Indexing"
      ]
    },
    {
      "cell_type": "code",
      "metadata": {
        "colab": {
          "base_uri": "https://localhost:8080/"
        },
        "id": "d4aC30TsKh6c",
        "outputId": "cfd53c48-e09b-4eda-fcb0-ad9f524808ba"
      },
      "source": [
        "# 3번\n",
        "# 2번의 행렬 m을 1차원 벡터 f 로 변환한 후 다음의 문제를 푸시오.\n",
        "f = m.flatten()\n",
        "f"
      ],
      "execution_count": 79,
      "outputs": [
        {
          "output_type": "execute_result",
          "data": {
            "text/plain": [
              "array([ 0,  1,  2,  3,  4,  5,  6,  7,  8,  9, 10, 11, 12, 13, 14])"
            ]
          },
          "metadata": {
            "tags": []
          },
          "execution_count": 79
        }
      ]
    },
    {
      "cell_type": "code",
      "metadata": {
        "colab": {
          "base_uri": "https://localhost:8080/"
        },
        "id": "VaZABxImRqSh",
        "outputId": "fe9eb7f6-7b38-41f7-c6e1-e2e7571b7816"
      },
      "source": [
        "# 3-1 이 배열에서 3의 배수를 찾아라.\n",
        "print(f[f%3==0])"
      ],
      "execution_count": 83,
      "outputs": [
        {
          "output_type": "stream",
          "text": [
            "[ 0  3  6  9 12]\n"
          ],
          "name": "stdout"
        }
      ]
    },
    {
      "cell_type": "code",
      "metadata": {
        "colab": {
          "base_uri": "https://localhost:8080/"
        },
        "id": "DDwUByJtRqKD",
        "outputId": "06ee55fa-4d8b-4f8c-e928-3d23fd7e08ab"
      },
      "source": [
        "# 3-2 이 배열에서 4로 나누면 1이 남는 수를 찾아라.\n",
        "print(f[f%4==1])"
      ],
      "execution_count": 81,
      "outputs": [
        {
          "output_type": "stream",
          "text": [
            "[ 1  5  9 13]\n"
          ],
          "name": "stdout"
        }
      ]
    },
    {
      "cell_type": "code",
      "metadata": {
        "colab": {
          "base_uri": "https://localhost:8080/"
        },
        "id": "qOV2_bvsRp7H",
        "outputId": "57cb4c64-9b0c-45fb-ec8e-ab4b7568d8bb"
      },
      "source": [
        "# 3-3 이 배열에서 3으로 나누면 나누어 떨어지고 4로 나누면 1이 남는 수를 찾아라\n",
        "f[np.logical_and(f%3==0, f%4==1)]"
      ],
      "execution_count": 84,
      "outputs": [
        {
          "output_type": "execute_result",
          "data": {
            "text/plain": [
              "array([9])"
            ]
          },
          "metadata": {
            "tags": []
          },
          "execution_count": 84
        }
      ]
    },
    {
      "cell_type": "markdown",
      "metadata": {
        "id": "BVQgHncimoL7"
      },
      "source": [
        "### 4. eye로 행렬 만들기"
      ]
    },
    {
      "cell_type": "code",
      "metadata": {
        "colab": {
          "base_uri": "https://localhost:8080/"
        },
        "id": "2OQrxI9XLmuv",
        "outputId": "0b057c9b-eda8-4b9b-8320-38ef7184f2cf"
      },
      "source": [
        "# 4번\n",
        "# 값을 직접 입력하지 말고 행렬 만들기\n",
        "a = np.eye(5) * 2 + np.eye(5, k=1) + np.eye(5, k=-1) * 3\n",
        "a"
      ],
      "execution_count": 52,
      "outputs": [
        {
          "output_type": "execute_result",
          "data": {
            "text/plain": [
              "array([[2., 1., 0., 0., 0.],\n",
              "       [3., 2., 1., 0., 0.],\n",
              "       [0., 3., 2., 1., 0.],\n",
              "       [0., 0., 3., 2., 1.],\n",
              "       [0., 0., 0., 3., 2.]])"
            ]
          },
          "metadata": {
            "tags": []
          },
          "execution_count": 52
        }
      ]
    },
    {
      "cell_type": "markdown",
      "metadata": {
        "id": "q9QObJ_wnBkC"
      },
      "source": [
        "### 5. Matrix operation"
      ]
    },
    {
      "cell_type": "code",
      "metadata": {
        "colab": {
          "base_uri": "https://localhost:8080/"
        },
        "id": "f4qk10usN0xd",
        "outputId": "171ab98e-9fb8-4781-f73f-8e83f7de784d"
      },
      "source": [
        "# 5번\n",
        "# 0에서 10까지 랜덤 실수값으로 이루어진 5X6 형태의 데이터 행렬을 만들고 이 데이터에 대해 다음과 같은 값을 구하시오.\n",
        "np.random.seed(2021)\n",
        "m = np.random.uniform(0,10,30).reshape(5,6).round(4)\n",
        "print(m)"
      ],
      "execution_count": 86,
      "outputs": [
        {
          "output_type": "stream",
          "text": [
            "[[6.0598 7.3337 1.3895 3.1267 9.9724 1.2816]\n",
            " [1.7899 7.5293 6.6216 7.8431 0.9689 0.5857]\n",
            " [9.624  6.1656 0.8663 5.6127 6.1652 9.6384]\n",
            " [5.743  3.7116 4.5215 2.0185 5.6931 1.951 ]\n",
            " [5.837  4.7631 5.1781 8.231  7.3223 0.6906]]\n"
          ],
          "name": "stdout"
        }
      ]
    },
    {
      "cell_type": "code",
      "metadata": {
        "colab": {
          "base_uri": "https://localhost:8080/"
        },
        "id": "2-Q224jeR1Bv",
        "outputId": "2f46c892-e610-4ffd-e165-78695de4237f"
      },
      "source": [
        "# 5-1 전체의 최댓값\n",
        "np.max(m)"
      ],
      "execution_count": 87,
      "outputs": [
        {
          "output_type": "execute_result",
          "data": {
            "text/plain": [
              "9.9724"
            ]
          },
          "metadata": {
            "tags": []
          },
          "execution_count": 87
        }
      ]
    },
    {
      "cell_type": "code",
      "metadata": {
        "colab": {
          "base_uri": "https://localhost:8080/"
        },
        "id": "m_sUScrZR06l",
        "outputId": "553b9f02-16b9-477e-98b3-2b522b4c103d"
      },
      "source": [
        "# 5-2 각 행의 합\n",
        "np.sum(m, axis=1)"
      ],
      "execution_count": 88,
      "outputs": [
        {
          "output_type": "execute_result",
          "data": {
            "text/plain": [
              "array([29.1637, 25.3385, 38.0722, 23.6387, 32.0221])"
            ]
          },
          "metadata": {
            "tags": []
          },
          "execution_count": 88
        }
      ]
    },
    {
      "cell_type": "code",
      "metadata": {
        "colab": {
          "base_uri": "https://localhost:8080/"
        },
        "id": "EkDVbNH9R0xs",
        "outputId": "24802ecd-ae13-4b78-a39b-40b51d4e1b1c"
      },
      "source": [
        "# 5-3 각 행의 최댓값\n",
        "np.max(m, axis=1)"
      ],
      "execution_count": 89,
      "outputs": [
        {
          "output_type": "execute_result",
          "data": {
            "text/plain": [
              "array([9.9724, 7.8431, 9.6384, 5.743 , 8.231 ])"
            ]
          },
          "metadata": {
            "tags": []
          },
          "execution_count": 89
        }
      ]
    },
    {
      "cell_type": "code",
      "metadata": {
        "colab": {
          "base_uri": "https://localhost:8080/"
        },
        "id": "gYoaREAYR0Q1",
        "outputId": "6c9acab9-a09d-431f-8d5e-055830f8b90c"
      },
      "source": [
        "# 5-4 각 열의 평균\n",
        "np.mean(m, axis=0)"
      ],
      "execution_count": 90,
      "outputs": [
        {
          "output_type": "execute_result",
          "data": {
            "text/plain": [
              "array([5.81074, 5.90066, 3.7154 , 5.3664 , 6.02438, 2.82946])"
            ]
          },
          "metadata": {
            "tags": []
          },
          "execution_count": 90
        }
      ]
    },
    {
      "cell_type": "code",
      "metadata": {
        "colab": {
          "base_uri": "https://localhost:8080/"
        },
        "id": "R3XKxQrGOlIX",
        "outputId": "460fff99-830a-456d-b08f-9a813aed8042"
      },
      "source": [
        "# 5-5 각 열의 최솟값\n",
        "np.min(m, axis=0)"
      ],
      "execution_count": 91,
      "outputs": [
        {
          "output_type": "execute_result",
          "data": {
            "text/plain": [
              "array([1.7899, 3.7116, 0.8663, 2.0185, 0.9689, 0.5857])"
            ]
          },
          "metadata": {
            "tags": []
          },
          "execution_count": 91
        }
      ]
    },
    {
      "cell_type": "markdown",
      "metadata": {
        "id": "KaPVd436oAaz"
      },
      "source": [
        "### 6. Sorting"
      ]
    },
    {
      "cell_type": "code",
      "metadata": {
        "colab": {
          "base_uri": "https://localhost:8080/"
        },
        "id": "P9q-rndVR_pD",
        "outputId": "b5a6e453-99f6-4ffd-c2f0-4aa416997b06"
      },
      "source": [
        "# 6번\n",
        "# 다음 배열은 첫번째 행에 학번, 두번째 행에 영어성적, 세번째 행에 수학성적을 적은 배열이다.\n",
        "# 영어 성적을 기준으로 각 열을 재정렬하시오.\n",
        "# array([[  1,  2,  3,  4],\n",
        "#        [ 46, 99,100, 71],\n",
        "#        [ 81, 59, 90,100]))\n",
        "\n",
        "score = np.array([[1,2,3,4],[46,99,100,71],[81,59,90,100]])\n",
        "score\n"
      ],
      "execution_count": 92,
      "outputs": [
        {
          "output_type": "execute_result",
          "data": {
            "text/plain": [
              "array([[  1,   2,   3,   4],\n",
              "       [ 46,  99, 100,  71],\n",
              "       [ 81,  59,  90, 100]])"
            ]
          },
          "metadata": {
            "tags": []
          },
          "execution_count": 92
        }
      ]
    },
    {
      "cell_type": "code",
      "metadata": {
        "colab": {
          "base_uri": "https://localhost:8080/"
        },
        "id": "Bv_Kd-CvoYmS",
        "outputId": "44cc47ca-02bc-4626-e2b5-a637ee92e501"
      },
      "source": [
        "np.sort(score)      # 이렇게 하면 안됨"
      ],
      "execution_count": 94,
      "outputs": [
        {
          "output_type": "execute_result",
          "data": {
            "text/plain": [
              "array([[  1,   2,   3,   4],\n",
              "       [ 46,  71,  99, 100],\n",
              "       [ 59,  81,  90, 100]])"
            ]
          },
          "metadata": {
            "tags": []
          },
          "execution_count": 94
        }
      ]
    },
    {
      "cell_type": "code",
      "metadata": {
        "colab": {
          "base_uri": "https://localhost:8080/"
        },
        "id": "31LoKz6FotFh",
        "outputId": "01002931-3b58-47e9-e81e-7b259ab700d2"
      },
      "source": [
        "s = np.argsort(score[1])\n",
        "s"
      ],
      "execution_count": 95,
      "outputs": [
        {
          "output_type": "execute_result",
          "data": {
            "text/plain": [
              "array([0, 3, 1, 2])"
            ]
          },
          "metadata": {
            "tags": []
          },
          "execution_count": 95
        }
      ]
    },
    {
      "cell_type": "code",
      "metadata": {
        "colab": {
          "base_uri": "https://localhost:8080/"
        },
        "id": "-4NOVbFWoyri",
        "outputId": "780b46ee-a5cf-4246-8826-a0aa25fb4846"
      },
      "source": [
        "# 내림차순\n",
        "s[::-1]"
      ],
      "execution_count": 96,
      "outputs": [
        {
          "output_type": "execute_result",
          "data": {
            "text/plain": [
              "array([2, 1, 3, 0])"
            ]
          },
          "metadata": {
            "tags": []
          },
          "execution_count": 96
        }
      ]
    },
    {
      "cell_type": "code",
      "metadata": {
        "colab": {
          "base_uri": "https://localhost:8080/"
        },
        "id": "QNqKTeHYo3JF",
        "outputId": "5a3ec9de-b2b1-4d7c-c3e6-609667934527"
      },
      "source": [
        "score[:, s[::-1]]"
      ],
      "execution_count": 97,
      "outputs": [
        {
          "output_type": "execute_result",
          "data": {
            "text/plain": [
              "array([[  3,   2,   4,   1],\n",
              "       [100,  99,  71,  46],\n",
              "       [ 90,  59, 100,  81]])"
            ]
          },
          "metadata": {
            "tags": []
          },
          "execution_count": 97
        }
      ]
    },
    {
      "cell_type": "code",
      "metadata": {
        "colab": {
          "base_uri": "https://localhost:8080/"
        },
        "id": "m1yTPNrIpGCa",
        "outputId": "d94d181c-acf5-42c6-d018-524af013a75b"
      },
      "source": [
        "# 한 줄로\n",
        "score[:,np.argsort(score[1])[::-1]]"
      ],
      "execution_count": 98,
      "outputs": [
        {
          "output_type": "execute_result",
          "data": {
            "text/plain": [
              "array([[  3,   2,   4,   1],\n",
              "       [100,  99,  71,  46],\n",
              "       [ 90,  59, 100,  81]])"
            ]
          },
          "metadata": {
            "tags": []
          },
          "execution_count": 98
        }
      ]
    },
    {
      "cell_type": "markdown",
      "metadata": {
        "id": "RnK-KWYEoGcb"
      },
      "source": [
        "### 7. 주사위 100번"
      ]
    },
    {
      "cell_type": "code",
      "metadata": {
        "colab": {
          "base_uri": "https://localhost:8080/"
        },
        "id": "7i6WQLJ_SgSE",
        "outputId": "de590bf9-635c-42a3-ad24-ac0a9daf79af"
      },
      "source": [
        "# 7번\n",
        "# 주사위를 100번 던지는 가상 실험을 파이썬으로 작성하고, 던져서 나오는 숫자의 평균을 구하시오.\n",
        "\n",
        "np.random.seed(2021)\n",
        "dice = np.random.randint(1,7,100)\n",
        "dice"
      ],
      "execution_count": 99,
      "outputs": [
        {
          "output_type": "execute_result",
          "data": {
            "text/plain": [
              "array([5, 6, 2, 1, 6, 5, 4, 6, 6, 6, 1, 5, 2, 6, 2, 2, 5, 6, 3, 3, 1, 4,\n",
              "       2, 1, 3, 4, 5, 6, 1, 6, 2, 3, 6, 2, 6, 2, 3, 3, 5, 6, 3, 4, 2, 3,\n",
              "       3, 1, 3, 5, 6, 4, 4, 2, 2, 2, 3, 6, 4, 4, 5, 4, 2, 5, 2, 2, 5, 4,\n",
              "       6, 4, 4, 4, 3, 2, 4, 3, 6, 3, 3, 1, 5, 4, 2, 4, 2, 5, 3, 4, 2, 3,\n",
              "       6, 3, 6, 3, 4, 5, 6, 2, 2, 6, 1, 6])"
            ]
          },
          "metadata": {
            "tags": []
          },
          "execution_count": 99
        }
      ]
    },
    {
      "cell_type": "code",
      "metadata": {
        "colab": {
          "base_uri": "https://localhost:8080/"
        },
        "id": "ha-yT8w8pgpU",
        "outputId": "c626a771-edce-4139-8550-726db44de0cf"
      },
      "source": [
        "np.mean(dice)"
      ],
      "execution_count": 100,
      "outputs": [
        {
          "output_type": "execute_result",
          "data": {
            "text/plain": [
              "3.7"
            ]
          },
          "metadata": {
            "tags": []
          },
          "execution_count": 100
        }
      ]
    },
    {
      "cell_type": "code",
      "metadata": {
        "colab": {
          "base_uri": "https://localhost:8080/"
        },
        "id": "q6N-3UOGpxHq",
        "outputId": "90444f20-2fd5-4b4e-cfe6-34f860b718f6"
      },
      "source": [
        "np.unique(dice)         # 중복 제거"
      ],
      "execution_count": 101,
      "outputs": [
        {
          "output_type": "execute_result",
          "data": {
            "text/plain": [
              "array([1, 2, 3, 4, 5, 6])"
            ]
          },
          "metadata": {
            "tags": []
          },
          "execution_count": 101
        }
      ]
    },
    {
      "cell_type": "code",
      "metadata": {
        "id": "W4kJ-G2kSlKO"
      },
      "source": [
        "# 8번\n",
        "# 가격이 10,000원인 주식이 있다.\n",
        "# 이 주식의 일간 수익률은 기댓값이 0%이고 표준편차가 1%인 표준 정규 분포를 따른다고 하자.\n",
        "# 250일 동안의 주가를 무작위로 생성하시오.\n",
        "\n"
      ],
      "execution_count": null,
      "outputs": []
    }
  ]
}