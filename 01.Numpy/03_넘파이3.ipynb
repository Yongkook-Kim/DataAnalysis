{
  "nbformat": 4,
  "nbformat_minor": 0,
  "metadata": {
    "colab": {
      "name": "03_넘파이3.ipynb",
      "provenance": [],
      "collapsed_sections": []
    },
    "kernelspec": {
      "name": "python3",
      "display_name": "Python 3"
    },
    "language_info": {
      "name": "python"
    }
  },
  "cells": [
    {
      "cell_type": "markdown",
      "metadata": {
        "id": "YQ5_MTFR4gbi"
      },
      "source": [
        "# Numpy - Part 3"
      ]
    },
    {
      "cell_type": "code",
      "metadata": {
        "id": "fy799Nf54dVr"
      },
      "source": [
        "import numpy as np"
      ],
      "execution_count": 1,
      "outputs": []
    },
    {
      "cell_type": "markdown",
      "metadata": {
        "id": "Kt1cef3q4pGT"
      },
      "source": [
        "## 6. Array operation"
      ]
    },
    {
      "cell_type": "code",
      "metadata": {
        "colab": {
          "base_uri": "https://localhost:8080/"
        },
        "id": "DNC1pgnS4mHs",
        "outputId": "0723d750-cf44-4f97-a508-c835d4e3795e"
      },
      "source": [
        "a = np.arange(1,7).reshape(2,3)\n",
        "a"
      ],
      "execution_count": 2,
      "outputs": [
        {
          "output_type": "execute_result",
          "data": {
            "text/plain": [
              "array([[1, 2, 3],\n",
              "       [4, 5, 6]])"
            ]
          },
          "metadata": {
            "tags": []
          },
          "execution_count": 2
        }
      ]
    },
    {
      "cell_type": "code",
      "metadata": {
        "colab": {
          "base_uri": "https://localhost:8080/"
        },
        "id": "hqPGQgna4yPY",
        "outputId": "101f2ea2-2e2e-4290-f39c-3d42d93c3fb3"
      },
      "source": [
        "a + a"
      ],
      "execution_count": 3,
      "outputs": [
        {
          "output_type": "execute_result",
          "data": {
            "text/plain": [
              "array([[ 2,  4,  6],\n",
              "       [ 8, 10, 12]])"
            ]
          },
          "metadata": {
            "tags": []
          },
          "execution_count": 3
        }
      ]
    },
    {
      "cell_type": "code",
      "metadata": {
        "colab": {
          "base_uri": "https://localhost:8080/"
        },
        "id": "Z6ZpCtH240dP",
        "outputId": "ef5915be-1850-4dd7-ba75-6efc405244cc"
      },
      "source": [
        "a - a"
      ],
      "execution_count": 4,
      "outputs": [
        {
          "output_type": "execute_result",
          "data": {
            "text/plain": [
              "array([[0, 0, 0],\n",
              "       [0, 0, 0]])"
            ]
          },
          "metadata": {
            "tags": []
          },
          "execution_count": 4
        }
      ]
    },
    {
      "cell_type": "code",
      "metadata": {
        "colab": {
          "base_uri": "https://localhost:8080/"
        },
        "id": "4crhTS_h43ZM",
        "outputId": "31197fff-46e7-4254-cbfb-55959edea7c8"
      },
      "source": [
        "a * a"
      ],
      "execution_count": 5,
      "outputs": [
        {
          "output_type": "execute_result",
          "data": {
            "text/plain": [
              "array([[ 1,  4,  9],\n",
              "       [16, 25, 36]])"
            ]
          },
          "metadata": {
            "tags": []
          },
          "execution_count": 5
        }
      ]
    },
    {
      "cell_type": "markdown",
      "metadata": {
        "id": "YYkFCYUX5FDU"
      },
      "source": [
        "### dot product"
      ]
    },
    {
      "cell_type": "code",
      "metadata": {
        "colab": {
          "base_uri": "https://localhost:8080/"
        },
        "id": "JTsTIah746WI",
        "outputId": "d2100aa3-a484-4e58-b127-4a008e3719b1"
      },
      "source": [
        "np.dot(a,a.T)       # (2,3) dot (3,2) --> (2,2)"
      ],
      "execution_count": 7,
      "outputs": [
        {
          "output_type": "execute_result",
          "data": {
            "text/plain": [
              "array([[14, 32],\n",
              "       [32, 77]])"
            ]
          },
          "metadata": {
            "tags": []
          },
          "execution_count": 7
        }
      ]
    },
    {
      "cell_type": "code",
      "metadata": {
        "colab": {
          "base_uri": "https://localhost:8080/"
        },
        "id": "1rCpIXHl5_Wd",
        "outputId": "7449c5a6-4ba4-41fe-fb3c-e714faff9b4e"
      },
      "source": [
        "a.dot(a.T)"
      ],
      "execution_count": 8,
      "outputs": [
        {
          "output_type": "execute_result",
          "data": {
            "text/plain": [
              "array([[14, 32],\n",
              "       [32, 77]])"
            ]
          },
          "metadata": {
            "tags": []
          },
          "execution_count": 8
        }
      ]
    },
    {
      "cell_type": "markdown",
      "metadata": {
        "id": "T_qMf8Mx6k4J"
      },
      "source": [
        "### broadcasting"
      ]
    },
    {
      "cell_type": "code",
      "metadata": {
        "colab": {
          "base_uri": "https://localhost:8080/"
        },
        "id": "xYyDHjr16UaS",
        "outputId": "f5a2230c-a4c7-48e8-c694-1b0abebdfe46"
      },
      "source": [
        "a"
      ],
      "execution_count": 9,
      "outputs": [
        {
          "output_type": "execute_result",
          "data": {
            "text/plain": [
              "array([[1, 2, 3],\n",
              "       [4, 5, 6]])"
            ]
          },
          "metadata": {
            "tags": []
          },
          "execution_count": 9
        }
      ]
    },
    {
      "cell_type": "code",
      "metadata": {
        "colab": {
          "base_uri": "https://localhost:8080/"
        },
        "id": "HH-x2eBQ6xjT",
        "outputId": "8d388c95-eb22-4d8d-d795-7d7f25b47008"
      },
      "source": [
        "a + 3"
      ],
      "execution_count": 13,
      "outputs": [
        {
          "output_type": "execute_result",
          "data": {
            "text/plain": [
              "array([[4, 5, 6],\n",
              "       [7, 8, 9]])"
            ]
          },
          "metadata": {
            "tags": []
          },
          "execution_count": 13
        }
      ]
    },
    {
      "cell_type": "code",
      "metadata": {
        "colab": {
          "base_uri": "https://localhost:8080/"
        },
        "id": "hAl0CaQo6yuy",
        "outputId": "c412cae0-34c0-481e-c263-baced669776b"
      },
      "source": [
        "a // 3"
      ],
      "execution_count": 11,
      "outputs": [
        {
          "output_type": "execute_result",
          "data": {
            "text/plain": [
              "array([[0, 0, 1],\n",
              "       [1, 1, 2]])"
            ]
          },
          "metadata": {
            "tags": []
          },
          "execution_count": 11
        }
      ]
    },
    {
      "cell_type": "code",
      "metadata": {
        "colab": {
          "base_uri": "https://localhost:8080/"
        },
        "id": "wp6yPFtZ6-7a",
        "outputId": "426337b7-92fa-40c1-cebb-4446026a3b3c"
      },
      "source": [
        "a % 3"
      ],
      "execution_count": 12,
      "outputs": [
        {
          "output_type": "execute_result",
          "data": {
            "text/plain": [
              "array([[1, 2, 0],\n",
              "       [1, 2, 0]])"
            ]
          },
          "metadata": {
            "tags": []
          },
          "execution_count": 12
        }
      ]
    },
    {
      "cell_type": "code",
      "metadata": {
        "id": "oGSMAPTq6_1R"
      },
      "source": [
        "b = np.array([10,20,30])"
      ],
      "execution_count": 19,
      "outputs": []
    },
    {
      "cell_type": "code",
      "metadata": {
        "colab": {
          "base_uri": "https://localhost:8080/"
        },
        "id": "Nwhlx7oU7PSH",
        "outputId": "219d348a-9fc2-4041-e237-1d7a365f6446"
      },
      "source": [
        "# 2차원 matrix와 1차원 vector간에도 사용 가능\n",
        "a + b"
      ],
      "execution_count": 20,
      "outputs": [
        {
          "output_type": "execute_result",
          "data": {
            "text/plain": [
              "array([[11, 22, 33],\n",
              "       [14, 25, 36]])"
            ]
          },
          "metadata": {
            "tags": []
          },
          "execution_count": 20
        }
      ]
    },
    {
      "cell_type": "markdown",
      "metadata": {
        "id": "GPVMwcW87jjc"
      },
      "source": [
        "## 7. Comparison"
      ]
    },
    {
      "cell_type": "markdown",
      "metadata": {
        "id": "EXpc3t_K702b"
      },
      "source": [
        "### all & any"
      ]
    },
    {
      "cell_type": "code",
      "metadata": {
        "colab": {
          "base_uri": "https://localhost:8080/"
        },
        "id": "5HXmf_sU7QlO",
        "outputId": "2e9694c7-de1e-4dd9-d080-e636aaf09305"
      },
      "source": [
        "a = np.arange(8)\n",
        "a"
      ],
      "execution_count": 23,
      "outputs": [
        {
          "output_type": "execute_result",
          "data": {
            "text/plain": [
              "array([0, 1, 2, 3, 4, 5, 6, 7])"
            ]
          },
          "metadata": {
            "tags": []
          },
          "execution_count": 23
        }
      ]
    },
    {
      "cell_type": "code",
      "metadata": {
        "colab": {
          "base_uri": "https://localhost:8080/"
        },
        "id": "bmHOXE7h74v3",
        "outputId": "3802eabe-bd84-4500-fbfa-3ae0301f2ac4"
      },
      "source": [
        "a > 4"
      ],
      "execution_count": 24,
      "outputs": [
        {
          "output_type": "execute_result",
          "data": {
            "text/plain": [
              "array([False, False, False, False, False,  True,  True,  True])"
            ]
          },
          "metadata": {
            "tags": []
          },
          "execution_count": 24
        }
      ]
    },
    {
      "cell_type": "code",
      "metadata": {
        "colab": {
          "base_uri": "https://localhost:8080/"
        },
        "id": "rpCnf79G79hc",
        "outputId": "2559bc5d-26ce-4231-bfaf-a9eb85fb5890"
      },
      "source": [
        "np.all(a > 4), np.any(a > 4)"
      ],
      "execution_count": 26,
      "outputs": [
        {
          "output_type": "execute_result",
          "data": {
            "text/plain": [
              "(False, True)"
            ]
          },
          "metadata": {
            "tags": []
          },
          "execution_count": 26
        }
      ]
    },
    {
      "cell_type": "code",
      "metadata": {
        "colab": {
          "base_uri": "https://localhost:8080/"
        },
        "id": "pYhHMunL8OwV",
        "outputId": "5d16bd5b-516e-4be5-a3ba-6faed63b635c"
      },
      "source": [
        "x = np.array([1,3,0])\n",
        "y = np.array([5,2,1])\n",
        "x > y"
      ],
      "execution_count": 27,
      "outputs": [
        {
          "output_type": "execute_result",
          "data": {
            "text/plain": [
              "array([False,  True, False])"
            ]
          },
          "metadata": {
            "tags": []
          },
          "execution_count": 27
        }
      ]
    },
    {
      "cell_type": "code",
      "metadata": {
        "colab": {
          "base_uri": "https://localhost:8080/"
        },
        "id": "C_LfDsho8q0-",
        "outputId": "5416065c-fac5-422d-8a3e-f7f89fec58d5"
      },
      "source": [
        "x == y"
      ],
      "execution_count": 28,
      "outputs": [
        {
          "output_type": "execute_result",
          "data": {
            "text/plain": [
              "array([False, False, False])"
            ]
          },
          "metadata": {
            "tags": []
          },
          "execution_count": 28
        }
      ]
    },
    {
      "cell_type": "markdown",
      "metadata": {
        "id": "5daqxkXP8_qZ"
      },
      "source": [
        "### logical operation"
      ]
    },
    {
      "cell_type": "code",
      "metadata": {
        "colab": {
          "base_uri": "https://localhost:8080/"
        },
        "id": "dKAT9l858vtV",
        "outputId": "48abc5fb-540c-45d1-e734-b6479e96e2c0"
      },
      "source": [
        "a = np.array([1,3,0], float)\n",
        "b = np.logical_and(a>0, a<3)        # 0 < a < 3\n",
        "b"
      ],
      "execution_count": 30,
      "outputs": [
        {
          "output_type": "execute_result",
          "data": {
            "text/plain": [
              "array([ True, False, False])"
            ]
          },
          "metadata": {
            "tags": []
          },
          "execution_count": 30
        }
      ]
    },
    {
      "cell_type": "code",
      "metadata": {
        "colab": {
          "base_uri": "https://localhost:8080/"
        },
        "id": "68j1EcwL9TCt",
        "outputId": "e9cd1bbb-6fee-4c1c-c2f1-bd77c693b230"
      },
      "source": [
        "c = np.logical_not(b)\n",
        "c"
      ],
      "execution_count": 33,
      "outputs": [
        {
          "output_type": "execute_result",
          "data": {
            "text/plain": [
              "array([False,  True,  True])"
            ]
          },
          "metadata": {
            "tags": []
          },
          "execution_count": 33
        }
      ]
    },
    {
      "cell_type": "code",
      "metadata": {
        "colab": {
          "base_uri": "https://localhost:8080/"
        },
        "id": "XPfESF5Z9ef2",
        "outputId": "6b5bcb4b-f1b3-4b11-a1f0-d54b8463b4d1"
      },
      "source": [
        "np.logical_or(b,c)"
      ],
      "execution_count": 34,
      "outputs": [
        {
          "output_type": "execute_result",
          "data": {
            "text/plain": [
              "array([ True,  True,  True])"
            ]
          },
          "metadata": {
            "tags": []
          },
          "execution_count": 34
        }
      ]
    },
    {
      "cell_type": "code",
      "metadata": {
        "colab": {
          "base_uri": "https://localhost:8080/"
        },
        "id": "ckrYI1WT9pOc",
        "outputId": "bcc8505d-2aee-460f-e4e6-49a5d7ab5584"
      },
      "source": [
        "np.logical_xor(b,c)         # 같으면 False, 다르면 True"
      ],
      "execution_count": 36,
      "outputs": [
        {
          "output_type": "execute_result",
          "data": {
            "text/plain": [
              "array([ True,  True,  True])"
            ]
          },
          "metadata": {
            "tags": []
          },
          "execution_count": 36
        }
      ]
    },
    {
      "cell_type": "code",
      "metadata": {
        "colab": {
          "base_uri": "https://localhost:8080/"
        },
        "id": "plMPyjX392Bu",
        "outputId": "647db557-3f18-43b3-ca38-e38053703431"
      },
      "source": [
        "np.where(a > 1, 10, 0)          # where(condition, True일 때의 값, False일 때의 값)"
      ],
      "execution_count": 38,
      "outputs": [
        {
          "output_type": "execute_result",
          "data": {
            "text/plain": [
              "array([ 0, 10,  0])"
            ]
          },
          "metadata": {
            "tags": []
          },
          "execution_count": 38
        }
      ]
    },
    {
      "cell_type": "code",
      "metadata": {
        "colab": {
          "base_uri": "https://localhost:8080/"
        },
        "id": "vmS04jKW-JYR",
        "outputId": "62a643d4-929f-4736-be50-4cc678d42244"
      },
      "source": [
        "np.where(np.arange(10,20) > 15)         # True인 원소의 index 값 반환"
      ],
      "execution_count": 40,
      "outputs": [
        {
          "output_type": "execute_result",
          "data": {
            "text/plain": [
              "(array([6, 7, 8, 9]),)"
            ]
          },
          "metadata": {
            "tags": []
          },
          "execution_count": 40
        }
      ]
    },
    {
      "cell_type": "code",
      "metadata": {
        "colab": {
          "base_uri": "https://localhost:8080/"
        },
        "id": "GMH-YBYZ-mJP",
        "outputId": "1afcdedc-d033-4996-f915-68b564148431"
      },
      "source": [
        "# Infinite, Not a Number\n",
        "a = np.array([np.Inf, np.NaN, 1, np.nan, np.inf, np.NAN])\n",
        "a"
      ],
      "execution_count": 43,
      "outputs": [
        {
          "output_type": "execute_result",
          "data": {
            "text/plain": [
              "array([inf, nan,  1., nan, inf, nan])"
            ]
          },
          "metadata": {
            "tags": []
          },
          "execution_count": 43
        }
      ]
    },
    {
      "cell_type": "code",
      "metadata": {
        "colab": {
          "base_uri": "https://localhost:8080/"
        },
        "id": "R4ZFIf_H_XXw",
        "outputId": "f7140f6b-5f1b-4d78-aeb2-c329920ce35d"
      },
      "source": [
        "np.isnan(a)         # Is not a number?"
      ],
      "execution_count": 44,
      "outputs": [
        {
          "output_type": "execute_result",
          "data": {
            "text/plain": [
              "array([False,  True, False,  True, False,  True])"
            ]
          },
          "metadata": {
            "tags": []
          },
          "execution_count": 44
        }
      ]
    },
    {
      "cell_type": "code",
      "metadata": {
        "colab": {
          "base_uri": "https://localhost:8080/"
        },
        "id": "EOIUfGIo_7xi",
        "outputId": "ef9d758b-0b12-4f6d-bd23-b6f3332a6779"
      },
      "source": [
        "np.isfinite(a)          # Is finite number?"
      ],
      "execution_count": 45,
      "outputs": [
        {
          "output_type": "execute_result",
          "data": {
            "text/plain": [
              "array([False, False,  True, False, False, False])"
            ]
          },
          "metadata": {
            "tags": []
          },
          "execution_count": 45
        }
      ]
    },
    {
      "cell_type": "code",
      "metadata": {
        "colab": {
          "base_uri": "https://localhost:8080/"
        },
        "id": "4duAqewI__FF",
        "outputId": "0b607448-a15d-4afd-9a74-25648a0bd736"
      },
      "source": [
        "np.isnan(a).sum()"
      ],
      "execution_count": 46,
      "outputs": [
        {
          "output_type": "execute_result",
          "data": {
            "text/plain": [
              "3"
            ]
          },
          "metadata": {
            "tags": []
          },
          "execution_count": 46
        }
      ]
    },
    {
      "cell_type": "markdown",
      "metadata": {
        "id": "LpSQeJV-EMIf"
      },
      "source": [
        "### argmax & argmin\n",
        "- array내 최대값 & 최소값의 index를 반환"
      ]
    },
    {
      "cell_type": "code",
      "metadata": {
        "colab": {
          "base_uri": "https://localhost:8080/"
        },
        "id": "VOeKi0uaALO1",
        "outputId": "fc6eede6-38a5-4cd2-c6c7-dfb39ff3a620"
      },
      "source": [
        "a = np.array([1,2,4,5,8,78,23,3])\n",
        "np.argmax(a), np.argmin(a)"
      ],
      "execution_count": 47,
      "outputs": [
        {
          "output_type": "execute_result",
          "data": {
            "text/plain": [
              "(5, 0)"
            ]
          },
          "metadata": {
            "tags": []
          },
          "execution_count": 47
        }
      ]
    },
    {
      "cell_type": "code",
      "metadata": {
        "colab": {
          "base_uri": "https://localhost:8080/"
        },
        "id": "Oqcl9maNEao9",
        "outputId": "a8996294-2899-4718-9466-8f6323423e13"
      },
      "source": [
        "a = a.reshape(2,4)\n",
        "np.argmax(a), np.argmin(a)"
      ],
      "execution_count": 48,
      "outputs": [
        {
          "output_type": "execute_result",
          "data": {
            "text/plain": [
              "(5, 0)"
            ]
          },
          "metadata": {
            "tags": []
          },
          "execution_count": 48
        }
      ]
    },
    {
      "cell_type": "code",
      "metadata": {
        "colab": {
          "base_uri": "https://localhost:8080/"
        },
        "id": "mn1Bvna9FCnV",
        "outputId": "91e8abd7-85c4-4a90-aa6c-8764179ef9cb"
      },
      "source": [
        "index = 5\n",
        "row, col = index // 4, index % 4\n",
        "row, col"
      ],
      "execution_count": 51,
      "outputs": [
        {
          "output_type": "execute_result",
          "data": {
            "text/plain": [
              "(1, 1)"
            ]
          },
          "metadata": {
            "tags": []
          },
          "execution_count": 51
        }
      ]
    },
    {
      "cell_type": "code",
      "metadata": {
        "colab": {
          "base_uri": "https://localhost:8080/"
        },
        "id": "iC-0KIsYFU8S",
        "outputId": "9909ff80-900e-436c-c953-a32765231eb6"
      },
      "source": [
        "a[row, col]"
      ],
      "execution_count": 52,
      "outputs": [
        {
          "output_type": "execute_result",
          "data": {
            "text/plain": [
              "78"
            ]
          },
          "metadata": {
            "tags": []
          },
          "execution_count": 52
        }
      ]
    },
    {
      "cell_type": "code",
      "metadata": {
        "colab": {
          "base_uri": "https://localhost:8080/"
        },
        "id": "KevLXICeEppn",
        "outputId": "3434fa54-745b-4a03-bf11-e5b1639b2f14"
      },
      "source": [
        "np.argmax(a, axis=1), np.argmin(a, axis=1)"
      ],
      "execution_count": 49,
      "outputs": [
        {
          "output_type": "execute_result",
          "data": {
            "text/plain": [
              "(array([3, 1]), array([0, 3]))"
            ]
          },
          "metadata": {
            "tags": []
          },
          "execution_count": 49
        }
      ]
    },
    {
      "cell_type": "code",
      "metadata": {
        "colab": {
          "base_uri": "https://localhost:8080/"
        },
        "id": "-RY106s2Ey2l",
        "outputId": "ebf61164-dc31-4a0b-b609-dd5ce3f442b8"
      },
      "source": [
        "a"
      ],
      "execution_count": 50,
      "outputs": [
        {
          "output_type": "execute_result",
          "data": {
            "text/plain": [
              "array([[ 1,  2,  4,  5],\n",
              "       [ 8, 78, 23,  3]])"
            ]
          },
          "metadata": {
            "tags": []
          },
          "execution_count": 50
        }
      ]
    },
    {
      "cell_type": "markdown",
      "metadata": {
        "id": "zcaBlrfMFfSb"
      },
      "source": [
        "## 8. Boolean & fancy index"
      ]
    },
    {
      "cell_type": "markdown",
      "metadata": {
        "id": "X433oqB_GL_o"
      },
      "source": [
        "### boolean index"
      ]
    },
    {
      "cell_type": "code",
      "metadata": {
        "colab": {
          "base_uri": "https://localhost:8080/"
        },
        "id": "XCahcBYQE5Tr",
        "outputId": "c8664d8a-f558-429b-86db-8557c5f2c72e"
      },
      "source": [
        "a > 4"
      ],
      "execution_count": 53,
      "outputs": [
        {
          "output_type": "execute_result",
          "data": {
            "text/plain": [
              "array([[False, False, False,  True],\n",
              "       [ True,  True,  True, False]])"
            ]
          },
          "metadata": {
            "tags": []
          },
          "execution_count": 53
        }
      ]
    },
    {
      "cell_type": "code",
      "metadata": {
        "colab": {
          "base_uri": "https://localhost:8080/"
        },
        "id": "6i4iTGX8FsWX",
        "outputId": "e9442f8e-fa5e-4929-ba54-499ab9db2b52"
      },
      "source": [
        "a[a>4]"
      ],
      "execution_count": 54,
      "outputs": [
        {
          "output_type": "execute_result",
          "data": {
            "text/plain": [
              "array([ 5,  8, 78, 23])"
            ]
          },
          "metadata": {
            "tags": []
          },
          "execution_count": 54
        }
      ]
    },
    {
      "cell_type": "markdown",
      "metadata": {
        "id": "KILBIF4qGOvn"
      },
      "source": [
        "### fancy index"
      ]
    },
    {
      "cell_type": "code",
      "metadata": {
        "colab": {
          "base_uri": "https://localhost:8080/"
        },
        "id": "7q2jJrKfFyIv",
        "outputId": "47ebe8c5-f426-4731-eee4-431086a88efc"
      },
      "source": [
        "a = np.array([2,4,6,8])\n",
        "b = np.array([1,3,2,0,0,1])\n",
        "a[b]"
      ],
      "execution_count": 55,
      "outputs": [
        {
          "output_type": "execute_result",
          "data": {
            "text/plain": [
              "array([4, 8, 6, 2, 2, 4])"
            ]
          },
          "metadata": {
            "tags": []
          },
          "execution_count": 55
        }
      ]
    },
    {
      "cell_type": "code",
      "metadata": {
        "colab": {
          "base_uri": "https://localhost:8080/"
        },
        "id": "MkSXHa-JGh86",
        "outputId": "ee130881-227f-47c8-a9a7-54842940003e"
      },
      "source": [
        "a.take(b)"
      ],
      "execution_count": 56,
      "outputs": [
        {
          "output_type": "execute_result",
          "data": {
            "text/plain": [
              "array([4, 8, 6, 2, 2, 4])"
            ]
          },
          "metadata": {
            "tags": []
          },
          "execution_count": 56
        }
      ]
    },
    {
      "cell_type": "code",
      "metadata": {
        "colab": {
          "base_uri": "https://localhost:8080/"
        },
        "id": "MMvwYHxmGrWs",
        "outputId": "da03e51e-1cc8-418d-ffb3-9a9db0b5679e"
      },
      "source": [
        "a = np.arange(1,13).reshape(3,4)\n",
        "b = np.array([1,2,0,1])         # 행 인덱스\n",
        "c = np.array([2,1,3,0])         # 열 인덱스\n",
        "a[b, c]"
      ],
      "execution_count": 57,
      "outputs": [
        {
          "output_type": "execute_result",
          "data": {
            "text/plain": [
              "array([ 7, 10,  4,  5])"
            ]
          },
          "metadata": {
            "tags": []
          },
          "execution_count": 57
        }
      ]
    },
    {
      "cell_type": "markdown",
      "metadata": {
        "id": "UqMVctKnHZh1"
      },
      "source": [
        "## 9. 기술 통계"
      ]
    },
    {
      "cell_type": "code",
      "metadata": {
        "id": "VxjHYjEmHM4y"
      },
      "source": [
        "a = np.random.randint(1, 10000, 1000)"
      ],
      "execution_count": 64,
      "outputs": []
    },
    {
      "cell_type": "code",
      "metadata": {
        "colab": {
          "base_uri": "https://localhost:8080/"
        },
        "id": "hWOsc99OIXf4",
        "outputId": "c3bf3498-4f9f-4484-a5c2-f39b75c3d1cd"
      },
      "source": [
        "# 사분위수\n",
        "for q in [0,25,50,75,100]:\n",
        "    print(np.percentile(a,q))"
      ],
      "execution_count": 66,
      "outputs": [
        {
          "output_type": "stream",
          "text": [
            "28.0\n",
            "2557.0\n",
            "5251.0\n",
            "7574.75\n",
            "9995.0\n"
          ],
          "name": "stdout"
        }
      ]
    },
    {
      "cell_type": "code",
      "metadata": {
        "id": "7Exq6Q7OIby4"
      },
      "source": [
        "import matplotlib.pyplot as plt"
      ],
      "execution_count": 67,
      "outputs": []
    },
    {
      "cell_type": "code",
      "metadata": {
        "colab": {
          "base_uri": "https://localhost:8080/",
          "height": 264
        },
        "id": "zXjBTgpuJn1r",
        "outputId": "c36afbcc-bb41-4ac2-8272-6c3577d76a12"
      },
      "source": [
        "plt.boxplot(a)\n",
        "plt.show()"
      ],
      "execution_count": 68,
      "outputs": [
        {
          "output_type": "display_data",
          "data": {
            "image/png": "[encoded data removed]",
            "text/plain": [
              "<Figure size 432x288 with 1 Axes>"
            ]
          },
          "metadata": {
            "tags": [],
            "needs_background": "light"
          }
        }
      ]
    },
    {
      "cell_type": "code",
      "metadata": {
        "id": "wF6-fyzmJqRL"
      },
      "source": [
        ""
      ],
      "execution_count": null,
      "outputs": []
    }
  ]
}