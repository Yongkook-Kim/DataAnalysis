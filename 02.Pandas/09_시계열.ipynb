{
  "nbformat": 4,
  "nbformat_minor": 0,
  "metadata": {
    "colab": {
      "name": "09_시계열.ipynb",
      "provenance": [],
      "collapsed_sections": []
    },
    "kernelspec": {
      "name": "python3",
      "display_name": "Python 3"
    },
    "language_info": {
      "name": "python"
    }
  },
  "cells": [
    {
      "cell_type": "markdown",
      "metadata": {
        "id": "QrOtNZ6P3pjw"
      },
      "source": [
        "# 시계열 자료 다루기"
      ]
    },
    {
      "cell_type": "code",
      "metadata": {
        "id": "Z1UPj7Pu3fP5"
      },
      "source": [
        "import numpy as np\n",
        "import pandas as pd"
      ],
      "execution_count": 1,
      "outputs": []
    },
    {
      "cell_type": "markdown",
      "metadata": {
        "id": "2qJw4lU23yWr"
      },
      "source": [
        "## DatetimeIndex"
      ]
    },
    {
      "cell_type": "code",
      "metadata": {
        "colab": {
          "base_uri": "https://localhost:8080/"
        },
        "id": "r7l5cGq53vCS",
        "outputId": "c36b0766-202d-4b24-c2af-83c1f2ba2de5"
      },
      "source": [
        "date_str = ['2021, 8, 9','2021-8-8','20210807','2021.8.6','080521','8/4/21','8.3.21']\n",
        "idx = pd.to_datetime(date_str)\n",
        "idx"
      ],
      "execution_count": 24,
      "outputs": [
        {
          "output_type": "execute_result",
          "data": {
            "text/plain": [
              "DatetimeIndex(['2021-08-09', '2021-08-08', '2021-08-07', '2021-08-06',\n",
              "               '2021-08-05', '2021-08-04', '2021-08-03'],\n",
              "              dtype='datetime64[ns]', freq=None)"
            ]
          },
          "metadata": {
            "tags": []
          },
          "execution_count": 24
        }
      ]
    },
    {
      "cell_type": "code",
      "metadata": {
        "colab": {
          "base_uri": "https://localhost:8080/"
        },
        "id": "sGarWQdQ4rUY",
        "outputId": "4c77e58a-273c-4a04-e16d-d76b7713d799"
      },
      "source": [
        "np.random.seed(2021)\n",
        "s = pd.Series(np.random.randn(7), index=idx)\n",
        "s"
      ],
      "execution_count": 17,
      "outputs": [
        {
          "output_type": "execute_result",
          "data": {
            "text/plain": [
              "2021-08-09    1.488609\n",
              "2021-08-08    0.676011\n",
              "2021-08-07   -0.418451\n",
              "2021-08-06   -0.806521\n",
              "2021-08-05    0.555876\n",
              "2021-08-04   -0.705504\n",
              "2021-08-03    1.130858\n",
              "dtype: float64"
            ]
          },
          "metadata": {
            "tags": []
          },
          "execution_count": 17
        }
      ]
    },
    {
      "cell_type": "code",
      "metadata": {
        "colab": {
          "base_uri": "https://localhost:8080/"
        },
        "id": "UNtQhzVy5oGJ",
        "outputId": "7c57b22a-93be-4b2b-beaf-970d66d806e9"
      },
      "source": [
        "pd.date_range('20210801', '2021-8-31')"
      ],
      "execution_count": 25,
      "outputs": [
        {
          "output_type": "execute_result",
          "data": {
            "text/plain": [
              "DatetimeIndex(['2021-08-01', '2021-08-02', '2021-08-03', '2021-08-04',\n",
              "               '2021-08-05', '2021-08-06', '2021-08-07', '2021-08-08',\n",
              "               '2021-08-09', '2021-08-10', '2021-08-11', '2021-08-12',\n",
              "               '2021-08-13', '2021-08-14', '2021-08-15', '2021-08-16',\n",
              "               '2021-08-17', '2021-08-18', '2021-08-19', '2021-08-20',\n",
              "               '2021-08-21', '2021-08-22', '2021-08-23', '2021-08-24',\n",
              "               '2021-08-25', '2021-08-26', '2021-08-27', '2021-08-28',\n",
              "               '2021-08-29', '2021-08-30', '2021-08-31'],\n",
              "              dtype='datetime64[ns]', freq='D')"
            ]
          },
          "metadata": {
            "tags": []
          },
          "execution_count": 25
        }
      ]
    },
    {
      "cell_type": "code",
      "metadata": {
        "colab": {
          "base_uri": "https://localhost:8080/"
        },
        "id": "ep9cYAtb6T_O",
        "outputId": "18ec2bbd-24a1-474b-87f0-2d67d8c31659"
      },
      "source": [
        "# 일별로 뽑으면 freq='D'\n",
        "pd.date_range('20210801', periods=31)"
      ],
      "execution_count": 26,
      "outputs": [
        {
          "output_type": "execute_result",
          "data": {
            "text/plain": [
              "DatetimeIndex(['2021-08-01', '2021-08-02', '2021-08-03', '2021-08-04',\n",
              "               '2021-08-05', '2021-08-06', '2021-08-07', '2021-08-08',\n",
              "               '2021-08-09', '2021-08-10', '2021-08-11', '2021-08-12',\n",
              "               '2021-08-13', '2021-08-14', '2021-08-15', '2021-08-16',\n",
              "               '2021-08-17', '2021-08-18', '2021-08-19', '2021-08-20',\n",
              "               '2021-08-21', '2021-08-22', '2021-08-23', '2021-08-24',\n",
              "               '2021-08-25', '2021-08-26', '2021-08-27', '2021-08-28',\n",
              "               '2021-08-29', '2021-08-30', '2021-08-31'],\n",
              "              dtype='datetime64[ns]', freq='D')"
            ]
          },
          "metadata": {
            "tags": []
          },
          "execution_count": 26
        }
      ]
    },
    {
      "cell_type": "code",
      "metadata": {
        "colab": {
          "base_uri": "https://localhost:8080/"
        },
        "id": "oJBE5R-n6ZCL",
        "outputId": "3d099ea9-ebe6-4bad-daf4-360334ffbc75"
      },
      "source": [
        "# Biz-day (평일)\n",
        "pd.date_range('20210801', '20210831', freq='B')"
      ],
      "execution_count": 29,
      "outputs": [
        {
          "output_type": "execute_result",
          "data": {
            "text/plain": [
              "DatetimeIndex(['2021-08-02', '2021-08-03', '2021-08-04', '2021-08-05',\n",
              "               '2021-08-06', '2021-08-09', '2021-08-10', '2021-08-11',\n",
              "               '2021-08-12', '2021-08-13', '2021-08-16', '2021-08-17',\n",
              "               '2021-08-18', '2021-08-19', '2021-08-20', '2021-08-23',\n",
              "               '2021-08-24', '2021-08-25', '2021-08-26', '2021-08-27',\n",
              "               '2021-08-30', '2021-08-31'],\n",
              "              dtype='datetime64[ns]', freq='B')"
            ]
          },
          "metadata": {
            "tags": []
          },
          "execution_count": 29
        }
      ]
    },
    {
      "cell_type": "code",
      "metadata": {
        "colab": {
          "base_uri": "https://localhost:8080/"
        },
        "id": "ysfcud5c9bZn",
        "outputId": "a9c8b6fb-f580-4aca-9d08-37831b2fd3ee"
      },
      "source": [
        "# 일요일 (W)\n",
        "pd.date_range('20210801', '20210831', freq='W')"
      ],
      "execution_count": 30,
      "outputs": [
        {
          "output_type": "execute_result",
          "data": {
            "text/plain": [
              "DatetimeIndex(['2021-08-01', '2021-08-08', '2021-08-15', '2021-08-22',\n",
              "               '2021-08-29'],\n",
              "              dtype='datetime64[ns]', freq='W-SUN')"
            ]
          },
          "metadata": {
            "tags": []
          },
          "execution_count": 30
        }
      ]
    },
    {
      "cell_type": "markdown",
      "metadata": {
        "id": "R_fJISMt-hYb"
      },
      "source": [
        "## resample 연산"
      ]
    },
    {
      "cell_type": "code",
      "metadata": {
        "colab": {
          "base_uri": "https://localhost:8080/"
        },
        "id": "A8SCRFIi93OZ",
        "outputId": "e61e04a6-473e-4ce5-e208-136132d83311"
      },
      "source": [
        "ts = pd.Series(np.random.randn(100),\n",
        "               index=pd.date_range(\"2021-1-1\", periods=100))\n",
        "ts.tail(10)"
      ],
      "execution_count": 33,
      "outputs": [
        {
          "output_type": "execute_result",
          "data": {
            "text/plain": [
              "2021-04-01   -1.226517\n",
              "2021-04-02   -0.722695\n",
              "2021-04-03   -0.619026\n",
              "2021-04-04   -0.988081\n",
              "2021-04-05   -0.532415\n",
              "2021-04-06    1.182246\n",
              "2021-04-07    0.770814\n",
              "2021-04-08   -0.416720\n",
              "2021-04-09   -0.266896\n",
              "2021-04-10   -1.956648\n",
              "Freq: D, dtype: float64"
            ]
          },
          "metadata": {
            "tags": []
          },
          "execution_count": 33
        }
      ]
    },
    {
      "cell_type": "code",
      "metadata": {
        "colab": {
          "base_uri": "https://localhost:8080/"
        },
        "id": "_f7l3n5P-re_",
        "outputId": "b7efd8fc-affb-4fc7-d874-2c1746600567"
      },
      "source": [
        "ts.resample('W').sum()"
      ],
      "execution_count": 36,
      "outputs": [
        {
          "output_type": "execute_result",
          "data": {
            "text/plain": [
              "2021-01-03   -1.533120\n",
              "2021-01-10    0.366061\n",
              "2021-01-17    0.020248\n",
              "2021-01-24    0.902120\n",
              "2021-01-31    0.285193\n",
              "2021-02-07    3.766831\n",
              "2021-02-14   -2.469666\n",
              "2021-02-21   -0.367119\n",
              "2021-02-28    2.792611\n",
              "2021-03-07    3.588517\n",
              "2021-03-14    1.982473\n",
              "2021-03-21   -4.558733\n",
              "2021-03-28    3.798809\n",
              "2021-04-04   -4.692207\n",
              "2021-04-11   -1.219619\n",
              "Freq: W-SUN, dtype: float64"
            ]
          },
          "metadata": {
            "tags": []
          },
          "execution_count": 36
        }
      ]
    },
    {
      "cell_type": "code",
      "metadata": {
        "colab": {
          "base_uri": "https://localhost:8080/"
        },
        "id": "wFc7NjSb-25a",
        "outputId": "9e131eaa-49f5-4cf0-bfdd-02fdc3419d4c"
      },
      "source": [
        "ts.resample('M').first()"
      ],
      "execution_count": 37,
      "outputs": [
        {
          "output_type": "execute_result",
          "data": {
            "text/plain": [
              "2021-01-31   -2.405074\n",
              "2021-02-28    0.848101\n",
              "2021-03-31    0.016642\n",
              "2021-04-30   -1.226517\n",
              "Freq: M, dtype: float64"
            ]
          },
          "metadata": {
            "tags": []
          },
          "execution_count": 37
        }
      ]
    }
  ]
}