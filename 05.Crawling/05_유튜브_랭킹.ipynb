{
  "nbformat": 4,
  "nbformat_minor": 0,
  "metadata": {
    "colab": {
      "name": "05_유튜브_랭킹.ipynb",
      "provenance": [],
      "collapsed_sections": []
    },
    "kernelspec": {
      "name": "python3",
      "display_name": "Python 3"
    },
    "language_info": {
      "name": "python"
    }
  },
  "cells": [
    {
      "cell_type": "markdown",
      "metadata": {
        "id": "yMi8cZdJA7NY"
      },
      "source": [
        "# 유튜브 랭킹 데이터 수집하기"
      ]
    },
    {
      "cell_type": "code",
      "metadata": {
        "colab": {
          "base_uri": "https://localhost:8080/"
        },
        "id": "CkasChvcAtXR",
        "outputId": "7f52ea7a-68c5-457d-a331-7a323fbb8d75"
      },
      "source": [
        "!apt-get update > /dev/null\n",
        "!pip install selenium > /dev/null\n",
        "!apt install chromium-chromedriver > /dev/null"
      ],
      "execution_count": 1,
      "outputs": [
        {
          "output_type": "stream",
          "text": [
            "\n",
            "WARNING: apt does not have a stable CLI interface. Use with caution in scripts.\n",
            "\n"
          ],
          "name": "stdout"
        }
      ]
    },
    {
      "cell_type": "code",
      "metadata": {
        "id": "q7rfakX2BV-E"
      },
      "source": [
        "from selenium import webdriver\n",
        "from bs4 import BeautifulSoup\n",
        "import time\n",
        "import pandas as pd"
      ],
      "execution_count": 2,
      "outputs": []
    },
    {
      "cell_type": "code",
      "metadata": {
        "id": "yuKvlSwwCZc_"
      },
      "source": [
        "options = webdriver.ChromeOptions()\n",
        "options.add_argument('--headless')          # 화면없이 실행\n",
        "options.add_argument('--no-sandbox')\n",
        "options.add_argument(\"--single-process\")\n",
        "options.add_argument(\"--disable-dev-shm-usage\")\n",
        "driver = webdriver.Chrome('chromedriver', options=options)"
      ],
      "execution_count": 3,
      "outputs": []
    },
    {
      "cell_type": "code",
      "metadata": {
        "id": "8N_5QE2ICj9y"
      },
      "source": [
        "url = 'https://youtube-rank.com/board/bbs/board.php?bo_table=youtube&page=1'\n",
        "driver.get(url)\n",
        "# time.sleep(2)         - 단계별로 안하고 파일로 한번에 돌릴 때 시간 텀 안주면 에러남"
      ],
      "execution_count": 4,
      "outputs": []
    },
    {
      "cell_type": "code",
      "metadata": {
        "colab": {
          "base_uri": "https://localhost:8080/"
        },
        "id": "RM_MSWscDQhm",
        "outputId": "a83bc691-cb72-4cfb-ee92-d285e4393d6b"
      },
      "source": [
        "trs = driver.find_elements_by_css_selector('.aos-init')\n",
        "len(trs)"
      ],
      "execution_count": 7,
      "outputs": [
        {
          "output_type": "execute_result",
          "data": {
            "text/plain": [
              "100"
            ]
          },
          "metadata": {
            "tags": []
          },
          "execution_count": 7
        }
      ]
    },
    {
      "cell_type": "code",
      "metadata": {
        "id": "WN6teXy5DlX8"
      },
      "source": [
        "html = driver.page_source\n",
        "soup = BeautifulSoup(html, 'html.parser')"
      ],
      "execution_count": 8,
      "outputs": []
    },
    {
      "cell_type": "code",
      "metadata": {
        "colab": {
          "base_uri": "https://localhost:8080/"
        },
        "id": "Ypvfl_JZEHbk",
        "outputId": "911a762f-dbbe-4549-9f27-a21ac01eaeed"
      },
      "source": [
        "channel_list = soup.select('tr.aos-init')\n",
        "len(channel_list)"
      ],
      "execution_count": 9,
      "outputs": [
        {
          "output_type": "execute_result",
          "data": {
            "text/plain": [
              "100"
            ]
          },
          "metadata": {
            "tags": []
          },
          "execution_count": 9
        }
      ]
    },
    {
      "cell_type": "code",
      "metadata": {
        "colab": {
          "base_uri": "https://localhost:8080/",
          "height": 34
        },
        "id": "uK8op_0NEQcR",
        "outputId": "f7d8d401-53ee-4370-a761-9e7c4b42dceb"
      },
      "source": [
        "channel = channel_list[0]\n",
        "category = channel.select_one('p.category').get_text().strip(' \\n[]')\n",
        "category"
      ],
      "execution_count": 17,
      "outputs": [
        {
          "output_type": "execute_result",
          "data": {
            "application/vnd.google.colaboratory.intrinsic+json": {
              "type": "string"
            },
            "text/plain": [
              "'음악/댄스/가수'"
            ]
          },
          "metadata": {
            "tags": []
          },
          "execution_count": 17
        }
      ]
    },
    {
      "cell_type": "code",
      "metadata": {
        "colab": {
          "base_uri": "https://localhost:8080/",
          "height": 34
        },
        "id": "C1GyZzowFGw7",
        "outputId": "9e2ef667-3d22-4a8d-cb7e-ecb7c16bb5c6"
      },
      "source": [
        "name = channel.select_one('.subject a').text.strip()\n",
        "name"
      ],
      "execution_count": 12,
      "outputs": [
        {
          "output_type": "execute_result",
          "data": {
            "application/vnd.google.colaboratory.intrinsic+json": {
              "type": "string"
            },
            "text/plain": [
              "'BLACKPINK'"
            ]
          },
          "metadata": {
            "tags": []
          },
          "execution_count": 12
        }
      ]
    },
    {
      "cell_type": "code",
      "metadata": {
        "colab": {
          "base_uri": "https://localhost:8080/"
        },
        "id": "a4pLvSJcFlIH",
        "outputId": "8485b444-889e-4137-8081-123b48be1e6a"
      },
      "source": [
        "subscriber = channel.select_one('.subscriber_cnt').text\n",
        "view = channel.select_one('.view_cnt').text\n",
        "video = channel.select_one('.video_cnt').text[:-1]\n",
        "subscriber, view, video"
      ],
      "execution_count": 14,
      "outputs": [
        {
          "output_type": "execute_result",
          "data": {
            "text/plain": [
              "('6400만', '190억0381만', '371')"
            ]
          },
          "metadata": {
            "tags": []
          },
          "execution_count": 14
        }
      ]
    },
    {
      "cell_type": "code",
      "metadata": {
        "id": "smfMJ_3yGfwj"
      },
      "source": [
        "channels = []\n",
        "for channel in channel_list:\n",
        "    category = channel.select_one('p.category').get_text().strip(' \\n[]')\n",
        "    name = channel.select_one('.subject a').text.strip()\n",
        "    subscriber = channel.select_one('.subscriber_cnt').text\n",
        "    view = channel.select_one('.view_cnt').text\n",
        "    video = channel.select_one('.video_cnt').text[:-1]\n",
        "    channels.append([category, name, subscriber, view, video])"
      ],
      "execution_count": 18,
      "outputs": []
    },
    {
      "cell_type": "code",
      "metadata": {
        "colab": {
          "base_uri": "https://localhost:8080/",
          "height": 202
        },
        "id": "3F_CZ0qNIJPH",
        "outputId": "302e96ce-ab6f-456c-d608-30af8e367cbc"
      },
      "source": [
        "df = pd.DataFrame(channels, columns=['카테고리', '채널명', '구독자수', '조회수', '비디오수'])\n",
        "df.head()"
      ],
      "execution_count": 19,
      "outputs": [
        {
          "output_type": "execute_result",
          "data": {
            "text/html": [
              "<div>\n",
              "<style scoped>\n",
              "    .dataframe tbody tr th:only-of-type {\n",
              "        vertical-align: middle;\n",
              "    }\n",
              "\n",
              "    .dataframe tbody tr th {\n",
              "        vertical-align: top;\n",
              "    }\n",
              "\n",
              "    .dataframe thead th {\n",
              "        text-align: right;\n",
              "    }\n",
              "</style>\n",
              "<table border=\"1\" class=\"dataframe\">\n",
              "  <thead>\n",
              "    <tr style=\"text-align: right;\">\n",
              "      <th></th>\n",
              "      <th>카테고리</th>\n",
              "      <th>채널명</th>\n",
              "      <th>구독자수</th>\n",
              "      <th>조회수</th>\n",
              "      <th>비디오수</th>\n",
              "    </tr>\n",
              "  </thead>\n",
              "  <tbody>\n",
              "    <tr>\n",
              "      <th>0</th>\n",
              "      <td>음악/댄스/가수</td>\n",
              "      <td>BLACKPINK</td>\n",
              "      <td>6400만</td>\n",
              "      <td>190억0381만</td>\n",
              "      <td>371</td>\n",
              "    </tr>\n",
              "    <tr>\n",
              "      <th>1</th>\n",
              "      <td>음악/댄스/가수</td>\n",
              "      <td>HYBE LABELS</td>\n",
              "      <td>6030만</td>\n",
              "      <td>187억1305만</td>\n",
              "      <td>654</td>\n",
              "    </tr>\n",
              "    <tr>\n",
              "      <th>2</th>\n",
              "      <td>음악/댄스/가수</td>\n",
              "      <td>BANGTANTV</td>\n",
              "      <td>5640만</td>\n",
              "      <td>121억9496만</td>\n",
              "      <td>1,579</td>\n",
              "    </tr>\n",
              "    <tr>\n",
              "      <th>3</th>\n",
              "      <td>음악/댄스/가수</td>\n",
              "      <td>SMTOWN</td>\n",
              "      <td>2850만</td>\n",
              "      <td>218억7092만</td>\n",
              "      <td>3,729</td>\n",
              "    </tr>\n",
              "    <tr>\n",
              "      <th>4</th>\n",
              "      <td>키즈/어린이</td>\n",
              "      <td>Boram Tube Vlog [보람튜브 브이로그]</td>\n",
              "      <td>2650만</td>\n",
              "      <td>110억5288만</td>\n",
              "      <td>223</td>\n",
              "    </tr>\n",
              "  </tbody>\n",
              "</table>\n",
              "</div>"
            ],
            "text/plain": [
              "       카테고리                          채널명   구독자수        조회수   비디오수\n",
              "0  음악/댄스/가수                    BLACKPINK  6400만  190억0381만    371\n",
              "1  음악/댄스/가수                  HYBE LABELS  6030만  187억1305만    654\n",
              "2  음악/댄스/가수                    BANGTANTV  5640만  121억9496만  1,579\n",
              "3  음악/댄스/가수                       SMTOWN  2850만  218억7092만  3,729\n",
              "4    키즈/어린이  Boram Tube Vlog [보람튜브 브이로그]  2650만  110억5288만    223"
            ]
          },
          "metadata": {
            "tags": []
          },
          "execution_count": 19
        }
      ]
    },
    {
      "cell_type": "code",
      "metadata": {
        "colab": {
          "base_uri": "https://localhost:8080/",
          "height": 202
        },
        "id": "DwvpY0wcIcI1",
        "outputId": "84c18247-736d-419a-d370-626f9b39b6eb"
      },
      "source": [
        "df.tail()"
      ],
      "execution_count": 20,
      "outputs": [
        {
          "output_type": "execute_result",
          "data": {
            "text/html": [
              "<div>\n",
              "<style scoped>\n",
              "    .dataframe tbody tr th:only-of-type {\n",
              "        vertical-align: middle;\n",
              "    }\n",
              "\n",
              "    .dataframe tbody tr th {\n",
              "        vertical-align: top;\n",
              "    }\n",
              "\n",
              "    .dataframe thead th {\n",
              "        text-align: right;\n",
              "    }\n",
              "</style>\n",
              "<table border=\"1\" class=\"dataframe\">\n",
              "  <thead>\n",
              "    <tr style=\"text-align: right;\">\n",
              "      <th></th>\n",
              "      <th>카테고리</th>\n",
              "      <th>채널명</th>\n",
              "      <th>구독자수</th>\n",
              "      <th>조회수</th>\n",
              "      <th>비디오수</th>\n",
              "    </tr>\n",
              "  </thead>\n",
              "  <tbody>\n",
              "    <tr>\n",
              "      <th>95</th>\n",
              "      <td>음식/요리/레시피</td>\n",
              "      <td>까니짱 [ G-NI ]</td>\n",
              "      <td>408만</td>\n",
              "      <td>10억3471만</td>\n",
              "      <td>482</td>\n",
              "    </tr>\n",
              "    <tr>\n",
              "      <th>96</th>\n",
              "      <td>키즈/어린이</td>\n",
              "      <td>로미유 스토리[Romiyu Story]</td>\n",
              "      <td>408만</td>\n",
              "      <td>10억6557만</td>\n",
              "      <td>433</td>\n",
              "    </tr>\n",
              "    <tr>\n",
              "      <th>97</th>\n",
              "      <td>음악/댄스/가수</td>\n",
              "      <td>NCT DREAM</td>\n",
              "      <td>386만</td>\n",
              "      <td>3억7422만</td>\n",
              "      <td>228</td>\n",
              "    </tr>\n",
              "    <tr>\n",
              "      <th>98</th>\n",
              "      <td>BJ/인물/연예인</td>\n",
              "      <td>허팝Heopop</td>\n",
              "      <td>381만</td>\n",
              "      <td>31억3892만</td>\n",
              "      <td>1,847</td>\n",
              "    </tr>\n",
              "    <tr>\n",
              "      <th>99</th>\n",
              "      <td>애완/반려동물</td>\n",
              "      <td>크림히어로즈</td>\n",
              "      <td>381만</td>\n",
              "      <td>13억7401만</td>\n",
              "      <td>939</td>\n",
              "    </tr>\n",
              "  </tbody>\n",
              "</table>\n",
              "</div>"
            ],
            "text/plain": [
              "         카테고리                    채널명  구독자수       조회수   비디오수\n",
              "95  음식/요리/레시피           까니짱 [ G-NI ]  408만  10억3471만    482\n",
              "96     키즈/어린이  로미유 스토리[Romiyu Story]  408만  10억6557만    433\n",
              "97   음악/댄스/가수              NCT DREAM  386만   3억7422만    228\n",
              "98  BJ/인물/연예인               허팝Heopop  381만  31억3892만  1,847\n",
              "99    애완/반려동물                 크림히어로즈  381만  13억7401만    939"
            ]
          },
          "metadata": {
            "tags": []
          },
          "execution_count": 20
        }
      ]
    },
    {
      "cell_type": "markdown",
      "metadata": {
        "id": "StTbNTLeI9s3"
      },
      "source": [
        "- 억, 만 을 숫자로 바꿔주는 함수"
      ]
    },
    {
      "cell_type": "code",
      "metadata": {
        "id": "AXVxMR-oIi7Y"
      },
      "source": [
        "def convert_unit(s):\n",
        "    s = s.replace('억', '').replace('개','').replace(',','')\n",
        "    s = s.replace('만', '0000')\n",
        "    return f'{int(s):,d}'"
      ],
      "execution_count": 25,
      "outputs": []
    },
    {
      "cell_type": "code",
      "metadata": {
        "colab": {
          "base_uri": "https://localhost:8080/",
          "height": 34
        },
        "id": "OyIpsg-VJqvW",
        "outputId": "065a8b71-a34f-4ea8-b908-bddfea9bb5be"
      },
      "source": [
        "convert_unit('10억6557만')"
      ],
      "execution_count": 26,
      "outputs": [
        {
          "output_type": "execute_result",
          "data": {
            "application/vnd.google.colaboratory.intrinsic+json": {
              "type": "string"
            },
            "text/plain": [
              "'1,065,570,000'"
            ]
          },
          "metadata": {
            "tags": []
          },
          "execution_count": 26
        }
      ]
    },
    {
      "cell_type": "markdown",
      "metadata": {
        "id": "ZVEcNin1dBma"
      },
      "source": [
        "- 두번째 페이지 : XPath로 찾아 Click()으로 들어가기"
      ]
    },
    {
      "cell_type": "code",
      "metadata": {
        "id": "IR9eNLxyJu_B"
      },
      "source": [
        "# //*[@id=\"list-skin\"]/nav/span/a[2]\n",
        "driver.find_element_by_xpath('//*[@id=\"list-skin\"]/nav/span/a[1]').click()"
      ],
      "execution_count": 35,
      "outputs": []
    },
    {
      "cell_type": "code",
      "metadata": {
        "id": "_7n4NRb-cKVD"
      },
      "source": [
        "html = driver.page_source\n",
        "soup = BeautifulSoup(html, 'html.parser')"
      ],
      "execution_count": 36,
      "outputs": []
    },
    {
      "cell_type": "code",
      "metadata": {
        "colab": {
          "base_uri": "https://localhost:8080/"
        },
        "id": "wpyYAKA1c1_m",
        "outputId": "9a5746ba-fb19-4e18-90f1-006d788454c8"
      },
      "source": [
        "channel_list = soup.select('tr.aos-init')\n",
        "len(channel_list)"
      ],
      "execution_count": 37,
      "outputs": [
        {
          "output_type": "execute_result",
          "data": {
            "text/plain": [
              "100"
            ]
          },
          "metadata": {
            "tags": []
          },
          "execution_count": 37
        }
      ]
    },
    {
      "cell_type": "code",
      "metadata": {
        "id": "OWgQmlvOcWfr"
      },
      "source": [
        "results = []\n",
        "for channel in channel_list:\n",
        "    category = channel.select_one('p.category').get_text().strip(' \\n[]')\n",
        "    name = channel.select_one('.subject a').text.strip()\n",
        "    subscriber = convert_unit(channel.select_one('.subscriber_cnt').text)\n",
        "    view = convert_unit(channel.select_one('.view_cnt').text)\n",
        "    video = convert_unit(channel.select_one('.video_cnt').text)\n",
        "    results.append([category, name, subscriber, view, video])"
      ],
      "execution_count": 38,
      "outputs": []
    },
    {
      "cell_type": "code",
      "metadata": {
        "colab": {
          "base_uri": "https://localhost:8080/",
          "height": 202
        },
        "id": "Lej58SZtcpYF",
        "outputId": "64e3edb9-6432-4289-faf1-84e512754bc2"
      },
      "source": [
        "df = pd.DataFrame(results, columns=['카테고리', '채널명', '구독자수', '조회수', '비디오수'])\n",
        "df.head()"
      ],
      "execution_count": 39,
      "outputs": [
        {
          "output_type": "execute_result",
          "data": {
            "text/html": [
              "<div>\n",
              "<style scoped>\n",
              "    .dataframe tbody tr th:only-of-type {\n",
              "        vertical-align: middle;\n",
              "    }\n",
              "\n",
              "    .dataframe tbody tr th {\n",
              "        vertical-align: top;\n",
              "    }\n",
              "\n",
              "    .dataframe thead th {\n",
              "        text-align: right;\n",
              "    }\n",
              "</style>\n",
              "<table border=\"1\" class=\"dataframe\">\n",
              "  <thead>\n",
              "    <tr style=\"text-align: right;\">\n",
              "      <th></th>\n",
              "      <th>카테고리</th>\n",
              "      <th>채널명</th>\n",
              "      <th>구독자수</th>\n",
              "      <th>조회수</th>\n",
              "      <th>비디오수</th>\n",
              "    </tr>\n",
              "  </thead>\n",
              "  <tbody>\n",
              "    <tr>\n",
              "      <th>0</th>\n",
              "      <td>취미/라이프</td>\n",
              "      <td>JaeYeol ASMR 재열</td>\n",
              "      <td>3,800,000</td>\n",
              "      <td>1,011,540,000</td>\n",
              "      <td>970</td>\n",
              "    </tr>\n",
              "    <tr>\n",
              "      <th>1</th>\n",
              "      <td>BJ/인물/연예인</td>\n",
              "      <td>워크맨-Workman</td>\n",
              "      <td>3,780,000</td>\n",
              "      <td>679,370,000</td>\n",
              "      <td>141</td>\n",
              "    </tr>\n",
              "    <tr>\n",
              "      <th>2</th>\n",
              "      <td>BJ/인물/연예인</td>\n",
              "      <td>waveya 2011</td>\n",
              "      <td>3,730,000</td>\n",
              "      <td>1,346,280,000</td>\n",
              "      <td>702</td>\n",
              "    </tr>\n",
              "    <tr>\n",
              "      <th>3</th>\n",
              "      <td>키즈/어린이</td>\n",
              "      <td>Lime Tube[라임튜브]</td>\n",
              "      <td>3,730,000</td>\n",
              "      <td>2,595,420,000</td>\n",
              "      <td>1,723</td>\n",
              "    </tr>\n",
              "    <tr>\n",
              "      <th>4</th>\n",
              "      <td>음악/댄스/가수</td>\n",
              "      <td>WINNER</td>\n",
              "      <td>3,730,000</td>\n",
              "      <td>1,171,260,000</td>\n",
              "      <td>428</td>\n",
              "    </tr>\n",
              "  </tbody>\n",
              "</table>\n",
              "</div>"
            ],
            "text/plain": [
              "        카테고리              채널명       구독자수            조회수   비디오수\n",
              "0     취미/라이프  JaeYeol ASMR 재열  3,800,000  1,011,540,000    970\n",
              "1  BJ/인물/연예인      워크맨-Workman  3,780,000    679,370,000    141\n",
              "2  BJ/인물/연예인      waveya 2011  3,730,000  1,346,280,000    702\n",
              "3     키즈/어린이  Lime Tube[라임튜브]  3,730,000  2,595,420,000  1,723\n",
              "4   음악/댄스/가수           WINNER  3,730,000  1,171,260,000    428"
            ]
          },
          "metadata": {
            "tags": []
          },
          "execution_count": 39
        }
      ]
    },
    {
      "cell_type": "markdown",
      "metadata": {
        "id": "LOb5bXWRfAc6"
      },
      "source": [
        "- page 1에서 10까지 크롤링하기"
      ]
    },
    {
      "cell_type": "code",
      "metadata": {
        "id": "Tgja2VzDcvX7"
      },
      "source": [
        "results = []\n",
        "for page in range(1,11):\n",
        "    url = 'https://youtube-rank.com/board/bbs/board.php?bo_table=youtube&page='+str(page)\n",
        "    driver.get(url)\n",
        "    time.sleep(2)           # 이거 안하면 페이지 넘어가기도 전에 읽을려고 함. Web에서 딜레이가 있을 수 있음\n",
        "    html = driver.page_source\n",
        "    soup = BeautifulSoup(html, 'html.parser')\n",
        "    channel_list = soup.select('tr.aos-init')\n",
        "\n",
        "    for channel in channel_list:\n",
        "        category = channel.select_one('p.category').get_text().strip(' \\n[]')\n",
        "        name = channel.select_one('.subject a').text.strip()\n",
        "        subscriber = convert_unit(channel.select_one('.subscriber_cnt').text)\n",
        "        view = convert_unit(channel.select_one('.view_cnt').text)\n",
        "        video = convert_unit(channel.select_one('.video_cnt').text)\n",
        "        results.append([category, name, subscriber, view, video])"
      ],
      "execution_count": 40,
      "outputs": []
    },
    {
      "cell_type": "code",
      "metadata": {
        "colab": {
          "base_uri": "https://localhost:8080/",
          "height": 202
        },
        "id": "gwFseauegI9a",
        "outputId": "038328c3-141b-4329-ff8f-a7d207c0bee7"
      },
      "source": [
        "df = pd.DataFrame(results, columns=['카테고리', '채널명', '구독자수', '조회수', '비디오수'])\n",
        "df.head()"
      ],
      "execution_count": 43,
      "outputs": [
        {
          "output_type": "execute_result",
          "data": {
            "text/html": [
              "<div>\n",
              "<style scoped>\n",
              "    .dataframe tbody tr th:only-of-type {\n",
              "        vertical-align: middle;\n",
              "    }\n",
              "\n",
              "    .dataframe tbody tr th {\n",
              "        vertical-align: top;\n",
              "    }\n",
              "\n",
              "    .dataframe thead th {\n",
              "        text-align: right;\n",
              "    }\n",
              "</style>\n",
              "<table border=\"1\" class=\"dataframe\">\n",
              "  <thead>\n",
              "    <tr style=\"text-align: right;\">\n",
              "      <th></th>\n",
              "      <th>카테고리</th>\n",
              "      <th>채널명</th>\n",
              "      <th>구독자수</th>\n",
              "      <th>조회수</th>\n",
              "      <th>비디오수</th>\n",
              "    </tr>\n",
              "  </thead>\n",
              "  <tbody>\n",
              "    <tr>\n",
              "      <th>0</th>\n",
              "      <td>음악/댄스/가수</td>\n",
              "      <td>BLACKPINK</td>\n",
              "      <td>64,000,000</td>\n",
              "      <td>19,003,810,000</td>\n",
              "      <td>371</td>\n",
              "    </tr>\n",
              "    <tr>\n",
              "      <th>1</th>\n",
              "      <td>음악/댄스/가수</td>\n",
              "      <td>HYBE LABELS</td>\n",
              "      <td>60,300,000</td>\n",
              "      <td>18,713,050,000</td>\n",
              "      <td>654</td>\n",
              "    </tr>\n",
              "    <tr>\n",
              "      <th>2</th>\n",
              "      <td>음악/댄스/가수</td>\n",
              "      <td>BANGTANTV</td>\n",
              "      <td>56,400,000</td>\n",
              "      <td>12,194,960,000</td>\n",
              "      <td>1,579</td>\n",
              "    </tr>\n",
              "    <tr>\n",
              "      <th>3</th>\n",
              "      <td>음악/댄스/가수</td>\n",
              "      <td>SMTOWN</td>\n",
              "      <td>28,500,000</td>\n",
              "      <td>21,870,920,000</td>\n",
              "      <td>3,729</td>\n",
              "    </tr>\n",
              "    <tr>\n",
              "      <th>4</th>\n",
              "      <td>키즈/어린이</td>\n",
              "      <td>Boram Tube Vlog [보람튜브 브이로그]</td>\n",
              "      <td>26,500,000</td>\n",
              "      <td>11,052,880,000</td>\n",
              "      <td>223</td>\n",
              "    </tr>\n",
              "  </tbody>\n",
              "</table>\n",
              "</div>"
            ],
            "text/plain": [
              "       카테고리                          채널명        구독자수             조회수   비디오수\n",
              "0  음악/댄스/가수                    BLACKPINK  64,000,000  19,003,810,000    371\n",
              "1  음악/댄스/가수                  HYBE LABELS  60,300,000  18,713,050,000    654\n",
              "2  음악/댄스/가수                    BANGTANTV  56,400,000  12,194,960,000  1,579\n",
              "3  음악/댄스/가수                       SMTOWN  28,500,000  21,870,920,000  3,729\n",
              "4    키즈/어린이  Boram Tube Vlog [보람튜브 브이로그]  26,500,000  11,052,880,000    223"
            ]
          },
          "metadata": {
            "tags": []
          },
          "execution_count": 43
        }
      ]
    },
    {
      "cell_type": "code",
      "metadata": {
        "colab": {
          "base_uri": "https://localhost:8080/",
          "height": 202
        },
        "id": "FxksJmu7gXI2",
        "outputId": "de2f7255-3fda-4138-bdbd-f94a6884ca8c"
      },
      "source": [
        "df.tail()"
      ],
      "execution_count": 44,
      "outputs": [
        {
          "output_type": "execute_result",
          "data": {
            "text/html": [
              "<div>\n",
              "<style scoped>\n",
              "    .dataframe tbody tr th:only-of-type {\n",
              "        vertical-align: middle;\n",
              "    }\n",
              "\n",
              "    .dataframe tbody tr th {\n",
              "        vertical-align: top;\n",
              "    }\n",
              "\n",
              "    .dataframe thead th {\n",
              "        text-align: right;\n",
              "    }\n",
              "</style>\n",
              "<table border=\"1\" class=\"dataframe\">\n",
              "  <thead>\n",
              "    <tr style=\"text-align: right;\">\n",
              "      <th></th>\n",
              "      <th>카테고리</th>\n",
              "      <th>채널명</th>\n",
              "      <th>구독자수</th>\n",
              "      <th>조회수</th>\n",
              "      <th>비디오수</th>\n",
              "    </tr>\n",
              "  </thead>\n",
              "  <tbody>\n",
              "    <tr>\n",
              "      <th>995</th>\n",
              "      <td>게임</td>\n",
              "      <td>미소</td>\n",
              "      <td>510,000</td>\n",
              "      <td>210,770,000</td>\n",
              "      <td>3,084</td>\n",
              "    </tr>\n",
              "    <tr>\n",
              "      <th>996</th>\n",
              "      <td>미분류</td>\n",
              "      <td>밉지않은 관종언니</td>\n",
              "      <td>510,000</td>\n",
              "      <td>67,740,000</td>\n",
              "      <td>170</td>\n",
              "    </tr>\n",
              "    <tr>\n",
              "      <th>997</th>\n",
              "      <td>미분류</td>\n",
              "      <td>복지마블TV [Welfare Marble]</td>\n",
              "      <td>510,000</td>\n",
              "      <td>49,960,000</td>\n",
              "      <td>240</td>\n",
              "    </tr>\n",
              "    <tr>\n",
              "      <th>998</th>\n",
              "      <td>음식/요리/레시피</td>\n",
              "      <td>Muggo</td>\n",
              "      <td>510,000</td>\n",
              "      <td>183,720,000</td>\n",
              "      <td>1,388</td>\n",
              "    </tr>\n",
              "    <tr>\n",
              "      <th>999</th>\n",
              "      <td>게임</td>\n",
              "      <td>임선비</td>\n",
              "      <td>510,000</td>\n",
              "      <td>234,290,000</td>\n",
              "      <td>1,134</td>\n",
              "    </tr>\n",
              "  </tbody>\n",
              "</table>\n",
              "</div>"
            ],
            "text/plain": [
              "          카테고리                      채널명     구독자수          조회수   비디오수\n",
              "995         게임                       미소  510,000  210,770,000  3,084\n",
              "996        미분류                밉지않은 관종언니  510,000   67,740,000    170\n",
              "997        미분류  복지마블TV [Welfare Marble]  510,000   49,960,000    240\n",
              "998  음식/요리/레시피                    Muggo  510,000  183,720,000  1,388\n",
              "999         게임                      임선비  510,000  234,290,000  1,134"
            ]
          },
          "metadata": {
            "tags": []
          },
          "execution_count": 44
        }
      ]
    },
    {
      "cell_type": "code",
      "metadata": {
        "id": "nIIxUaCVgekV"
      },
      "source": [
        "df.to_csv('유튜브_순위.csv', index=False)"
      ],
      "execution_count": 45,
      "outputs": []
    },
    {
      "cell_type": "code",
      "metadata": {
        "id": "uePfNIpugv-v"
      },
      "source": [
        "driver.close()"
      ],
      "execution_count": 46,
      "outputs": []
    }
  ]
}